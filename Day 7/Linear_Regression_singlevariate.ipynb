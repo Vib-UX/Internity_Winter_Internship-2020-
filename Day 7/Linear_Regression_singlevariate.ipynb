{
  "nbformat": 4,
  "nbformat_minor": 0,
  "metadata": {
    "colab": {
      "name": "Linear_Regression_singlevariate.ipynb",
      "provenance": []
    },
    "kernelspec": {
      "name": "python3",
      "display_name": "Python 3"
    }
  },
  "cells": [
    {
      "cell_type": "code",
      "metadata": {
        "id": "OTOWgPefSbeb"
      },
      "source": [
        "import numpy as np\n",
        "import pandas as pd\n",
        "import matplotlib.pyplot as plt\n"
      ],
      "execution_count": null,
      "outputs": []
    },
    {
      "cell_type": "code",
      "metadata": {
        "id": "q9anC557St4N"
      },
      "source": [
        "url ='simple_linear_data.csv'"
      ],
      "execution_count": null,
      "outputs": []
    },
    {
      "cell_type": "code",
      "metadata": {
        "id": "hr-jo9WvSwtj"
      },
      "source": [
        "data = pd.read_csv(url)"
      ],
      "execution_count": null,
      "outputs": []
    },
    {
      "cell_type": "code",
      "metadata": {
        "id": "hc0Vwx2iS3o8",
        "colab": {
          "base_uri": "https://localhost:8080/",
          "height": 194
        },
        "outputId": "76fd7117-c287-45f9-a1da-49002a05f041"
      },
      "source": [
        "data.head()"
      ],
      "execution_count": null,
      "outputs": [
        {
          "output_type": "execute_result",
          "data": {
            "text/html": [
              "<div>\n",
              "<style scoped>\n",
              "    .dataframe tbody tr th:only-of-type {\n",
              "        vertical-align: middle;\n",
              "    }\n",
              "\n",
              "    .dataframe tbody tr th {\n",
              "        vertical-align: top;\n",
              "    }\n",
              "\n",
              "    .dataframe thead th {\n",
              "        text-align: right;\n",
              "    }\n",
              "</style>\n",
              "<table border=\"1\" class=\"dataframe\">\n",
              "  <thead>\n",
              "    <tr style=\"text-align: right;\">\n",
              "      <th></th>\n",
              "      <th>G2</th>\n",
              "      <th>G3</th>\n",
              "    </tr>\n",
              "  </thead>\n",
              "  <tbody>\n",
              "    <tr>\n",
              "      <th>0</th>\n",
              "      <td>30</td>\n",
              "      <td>30</td>\n",
              "    </tr>\n",
              "    <tr>\n",
              "      <th>1</th>\n",
              "      <td>25</td>\n",
              "      <td>30</td>\n",
              "    </tr>\n",
              "    <tr>\n",
              "      <th>2</th>\n",
              "      <td>40</td>\n",
              "      <td>50</td>\n",
              "    </tr>\n",
              "    <tr>\n",
              "      <th>3</th>\n",
              "      <td>70</td>\n",
              "      <td>75</td>\n",
              "    </tr>\n",
              "    <tr>\n",
              "      <th>4</th>\n",
              "      <td>50</td>\n",
              "      <td>50</td>\n",
              "    </tr>\n",
              "  </tbody>\n",
              "</table>\n",
              "</div>"
            ],
            "text/plain": [
              "   G2  G3\n",
              "0  30  30\n",
              "1  25  30\n",
              "2  40  50\n",
              "3  70  75\n",
              "4  50  50"
            ]
          },
          "metadata": {
            "tags": []
          },
          "execution_count": 4
        }
      ]
    },
    {
      "cell_type": "code",
      "metadata": {
        "id": "CFwOsXm7TA-b",
        "colab": {
          "base_uri": "https://localhost:8080/"
        },
        "outputId": "89570313-a13d-4e7e-cc84-c4bd0d3e17e6"
      },
      "source": [
        "data.info()\n",
        "data.shape"
      ],
      "execution_count": null,
      "outputs": [
        {
          "output_type": "stream",
          "text": [
            "<class 'pandas.core.frame.DataFrame'>\n",
            "RangeIndex: 395 entries, 0 to 394\n",
            "Data columns (total 2 columns):\n",
            " #   Column  Non-Null Count  Dtype\n",
            "---  ------  --------------  -----\n",
            " 0   G2      395 non-null    int64\n",
            " 1   G3      395 non-null    int64\n",
            "dtypes: int64(2)\n",
            "memory usage: 6.3 KB\n"
          ],
          "name": "stdout"
        },
        {
          "output_type": "execute_result",
          "data": {
            "text/plain": [
              "(395, 2)"
            ]
          },
          "metadata": {
            "tags": []
          },
          "execution_count": 5
        }
      ]
    },
    {
      "cell_type": "code",
      "metadata": {
        "id": "Uk58zs1MTFUa",
        "colab": {
          "base_uri": "https://localhost:8080/",
          "height": 399
        },
        "outputId": "228314b2-0e2a-4485-fe25-f24c33fc667f"
      },
      "source": [
        "data.insert(0,\"1's\",1)\n",
        "data"
      ],
      "execution_count": null,
      "outputs": [
        {
          "output_type": "execute_result",
          "data": {
            "text/html": [
              "<div>\n",
              "<style scoped>\n",
              "    .dataframe tbody tr th:only-of-type {\n",
              "        vertical-align: middle;\n",
              "    }\n",
              "\n",
              "    .dataframe tbody tr th {\n",
              "        vertical-align: top;\n",
              "    }\n",
              "\n",
              "    .dataframe thead th {\n",
              "        text-align: right;\n",
              "    }\n",
              "</style>\n",
              "<table border=\"1\" class=\"dataframe\">\n",
              "  <thead>\n",
              "    <tr style=\"text-align: right;\">\n",
              "      <th></th>\n",
              "      <th>1's</th>\n",
              "      <th>G2</th>\n",
              "      <th>G3</th>\n",
              "    </tr>\n",
              "  </thead>\n",
              "  <tbody>\n",
              "    <tr>\n",
              "      <th>0</th>\n",
              "      <td>1</td>\n",
              "      <td>30</td>\n",
              "      <td>30</td>\n",
              "    </tr>\n",
              "    <tr>\n",
              "      <th>1</th>\n",
              "      <td>1</td>\n",
              "      <td>25</td>\n",
              "      <td>30</td>\n",
              "    </tr>\n",
              "    <tr>\n",
              "      <th>2</th>\n",
              "      <td>1</td>\n",
              "      <td>40</td>\n",
              "      <td>50</td>\n",
              "    </tr>\n",
              "    <tr>\n",
              "      <th>3</th>\n",
              "      <td>1</td>\n",
              "      <td>70</td>\n",
              "      <td>75</td>\n",
              "    </tr>\n",
              "    <tr>\n",
              "      <th>4</th>\n",
              "      <td>1</td>\n",
              "      <td>50</td>\n",
              "      <td>50</td>\n",
              "    </tr>\n",
              "    <tr>\n",
              "      <th>...</th>\n",
              "      <td>...</td>\n",
              "      <td>...</td>\n",
              "      <td>...</td>\n",
              "    </tr>\n",
              "    <tr>\n",
              "      <th>390</th>\n",
              "      <td>1</td>\n",
              "      <td>45</td>\n",
              "      <td>45</td>\n",
              "    </tr>\n",
              "    <tr>\n",
              "      <th>391</th>\n",
              "      <td>1</td>\n",
              "      <td>80</td>\n",
              "      <td>80</td>\n",
              "    </tr>\n",
              "    <tr>\n",
              "      <th>392</th>\n",
              "      <td>1</td>\n",
              "      <td>40</td>\n",
              "      <td>35</td>\n",
              "    </tr>\n",
              "    <tr>\n",
              "      <th>393</th>\n",
              "      <td>1</td>\n",
              "      <td>60</td>\n",
              "      <td>50</td>\n",
              "    </tr>\n",
              "    <tr>\n",
              "      <th>394</th>\n",
              "      <td>1</td>\n",
              "      <td>45</td>\n",
              "      <td>45</td>\n",
              "    </tr>\n",
              "  </tbody>\n",
              "</table>\n",
              "<p>395 rows × 3 columns</p>\n",
              "</div>"
            ],
            "text/plain": [
              "     1's  G2  G3\n",
              "0      1  30  30\n",
              "1      1  25  30\n",
              "2      1  40  50\n",
              "3      1  70  75\n",
              "4      1  50  50\n",
              "..   ...  ..  ..\n",
              "390    1  45  45\n",
              "391    1  80  80\n",
              "392    1  40  35\n",
              "393    1  60  50\n",
              "394    1  45  45\n",
              "\n",
              "[395 rows x 3 columns]"
            ]
          },
          "metadata": {
            "tags": []
          },
          "execution_count": 6
        }
      ]
    },
    {
      "cell_type": "code",
      "metadata": {
        "id": "m61DMRPiTnlX",
        "colab": {
          "base_uri": "https://localhost:8080/"
        },
        "outputId": "57d9c341-5a0f-4df9-f68a-660d0ac1c1a6"
      },
      "source": [
        "data.info()"
      ],
      "execution_count": null,
      "outputs": [
        {
          "output_type": "stream",
          "text": [
            "<class 'pandas.core.frame.DataFrame'>\n",
            "RangeIndex: 395 entries, 0 to 394\n",
            "Data columns (total 3 columns):\n",
            " #   Column  Non-Null Count  Dtype\n",
            "---  ------  --------------  -----\n",
            " 0   1's     395 non-null    int64\n",
            " 1   G2      395 non-null    int64\n",
            " 2   G3      395 non-null    int64\n",
            "dtypes: int64(3)\n",
            "memory usage: 9.4 KB\n"
          ],
          "name": "stdout"
        }
      ]
    },
    {
      "cell_type": "code",
      "metadata": {
        "id": "RCd1nevJToZo",
        "colab": {
          "base_uri": "https://localhost:8080/"
        },
        "outputId": "a4bc6a6e-0a31-499e-9713-c1a14b2b6fad"
      },
      "source": [
        "data = data[(data['G3']!=0)|((data['G2']==0)&(data['G3']==0))]\n",
        "X = data[[\"1's\", 'G2']].values\n",
        "y = data['G3'].values\n",
        "X"
      ],
      "execution_count": null,
      "outputs": [
        {
          "output_type": "execute_result",
          "data": {
            "text/plain": [
              "array([[ 1, 30],\n",
              "       [ 1, 25],\n",
              "       [ 1, 40],\n",
              "       [ 1, 70],\n",
              "       [ 1, 50],\n",
              "       [ 1, 75],\n",
              "       [ 1, 60],\n",
              "       [ 1, 25],\n",
              "       [ 1, 90],\n",
              "       [ 1, 75],\n",
              "       [ 1, 40],\n",
              "       [ 1, 60],\n",
              "       [ 1, 70],\n",
              "       [ 1, 50],\n",
              "       [ 1, 80],\n",
              "       [ 1, 70],\n",
              "       [ 1, 70],\n",
              "       [ 1, 50],\n",
              "       [ 1, 25],\n",
              "       [ 1, 50],\n",
              "       [ 1, 70],\n",
              "       [ 1, 75],\n",
              "       [ 1, 75],\n",
              "       [ 1, 65],\n",
              "       [ 1, 45],\n",
              "       [ 1, 45],\n",
              "       [ 1, 60],\n",
              "       [ 1, 80],\n",
              "       [ 1, 55],\n",
              "       [ 1, 60],\n",
              "       [ 1, 55],\n",
              "       [ 1, 80],\n",
              "       [ 1, 80],\n",
              "       [ 1, 50],\n",
              "       [ 1, 70],\n",
              "       [ 1, 35],\n",
              "       [ 1, 80],\n",
              "       [ 1, 80],\n",
              "       [ 1, 60],\n",
              "       [ 1, 65],\n",
              "       [ 1, 50],\n",
              "       [ 1, 60],\n",
              "       [ 1, 90],\n",
              "       [ 1, 40],\n",
              "       [ 1, 50],\n",
              "       [ 1, 40],\n",
              "       [ 1, 60],\n",
              "       [ 1, 95],\n",
              "       [ 1, 75],\n",
              "       [ 1, 35],\n",
              "       [ 1, 65],\n",
              "       [ 1, 65],\n",
              "       [ 1, 55],\n",
              "       [ 1, 50],\n",
              "       [ 1, 65],\n",
              "       [ 1, 45],\n",
              "       [ 1, 75],\n",
              "       [ 1, 75],\n",
              "       [ 1, 50],\n",
              "       [ 1, 80],\n",
              "       [ 1, 55],\n",
              "       [ 1, 40],\n",
              "       [ 1, 50],\n",
              "       [ 1, 45],\n",
              "       [ 1, 50],\n",
              "       [ 1, 75],\n",
              "       [ 1, 65],\n",
              "       [ 1, 35],\n",
              "       [ 1, 45],\n",
              "       [ 1, 80],\n",
              "       [ 1, 75],\n",
              "       [ 1, 50],\n",
              "       [ 1, 30],\n",
              "       [ 1, 60],\n",
              "       [ 1, 60],\n",
              "       [ 1, 45],\n",
              "       [ 1, 55],\n",
              "       [ 1, 55],\n",
              "       [ 1, 40],\n",
              "       [ 1, 25],\n",
              "       [ 1, 60],\n",
              "       [ 1, 50],\n",
              "       [ 1, 30],\n",
              "       [ 1, 75],\n",
              "       [ 1, 50],\n",
              "       [ 1, 45],\n",
              "       [ 1, 35],\n",
              "       [ 1, 70],\n",
              "       [ 1, 50],\n",
              "       [ 1, 30],\n",
              "       [ 1, 35],\n",
              "       [ 1, 85],\n",
              "       [ 1, 30],\n",
              "       [ 1, 50],\n",
              "       [ 1, 65],\n",
              "       [ 1, 50],\n",
              "       [ 1, 75],\n",
              "       [ 1, 45],\n",
              "       [ 1, 70],\n",
              "       [ 1, 45],\n",
              "       [ 1, 35],\n",
              "       [ 1, 85],\n",
              "       [ 1, 65],\n",
              "       [ 1, 30],\n",
              "       [ 1, 90],\n",
              "       [ 1, 55],\n",
              "       [ 1, 40],\n",
              "       [ 1, 90],\n",
              "       [ 1, 65],\n",
              "       [ 1, 75],\n",
              "       [ 1, 95],\n",
              "       [ 1, 50],\n",
              "       [ 1, 65],\n",
              "       [ 1, 95],\n",
              "       [ 1, 45],\n",
              "       [ 1, 75],\n",
              "       [ 1, 65],\n",
              "       [ 1, 70],\n",
              "       [ 1, 35],\n",
              "       [ 1, 65],\n",
              "       [ 1, 75],\n",
              "       [ 1, 70],\n",
              "       [ 1, 65],\n",
              "       [ 1, 55],\n",
              "       [ 1, 35],\n",
              "       [ 1, 65],\n",
              "       [ 1, 50],\n",
              "       [ 1, 40],\n",
              "       [ 1, 90],\n",
              "       [ 1,  0],\n",
              "       [ 1,  0],\n",
              "       [ 1, 65],\n",
              "       [ 1, 55],\n",
              "       [ 1,  0],\n",
              "       [ 1,  0],\n",
              "       [ 1,  0],\n",
              "       [ 1,  0],\n",
              "       [ 1, 60],\n",
              "       [ 1, 80],\n",
              "       [ 1, 45],\n",
              "       [ 1, 55],\n",
              "       [ 1, 70],\n",
              "       [ 1,  0],\n",
              "       [ 1, 55],\n",
              "       [ 1, 55],\n",
              "       [ 1, 45],\n",
              "       [ 1, 65],\n",
              "       [ 1, 50],\n",
              "       [ 1,  0],\n",
              "       [ 1, 55],\n",
              "       [ 1, 40],\n",
              "       [ 1, 60],\n",
              "       [ 1, 40],\n",
              "       [ 1, 75],\n",
              "       [ 1, 60],\n",
              "       [ 1, 45],\n",
              "       [ 1,  0],\n",
              "       [ 1, 50],\n",
              "       [ 1, 40],\n",
              "       [ 1, 55],\n",
              "       [ 1, 50],\n",
              "       [ 1, 75],\n",
              "       [ 1, 70],\n",
              "       [ 1, 75],\n",
              "       [ 1, 55],\n",
              "       [ 1, 55],\n",
              "       [ 1, 45],\n",
              "       [ 1, 65],\n",
              "       [ 1, 25],\n",
              "       [ 1, 40],\n",
              "       [ 1, 50],\n",
              "       [ 1, 40],\n",
              "       [ 1, 65],\n",
              "       [ 1, 85],\n",
              "       [ 1, 45],\n",
              "       [ 1, 65],\n",
              "       [ 1, 60],\n",
              "       [ 1, 60],\n",
              "       [ 1, 75],\n",
              "       [ 1, 35],\n",
              "       [ 1, 45],\n",
              "       [ 1, 60],\n",
              "       [ 1, 40],\n",
              "       [ 1, 40],\n",
              "       [ 1, 45],\n",
              "       [ 1, 70],\n",
              "       [ 1, 75],\n",
              "       [ 1, 75],\n",
              "       [ 1, 45],\n",
              "       [ 1, 90],\n",
              "       [ 1, 45],\n",
              "       [ 1, 80],\n",
              "       [ 1, 50],\n",
              "       [ 1, 45],\n",
              "       [ 1, 30],\n",
              "       [ 1, 50],\n",
              "       [ 1, 45],\n",
              "       [ 1, 35],\n",
              "       [ 1, 60],\n",
              "       [ 1, 45],\n",
              "       [ 1, 35],\n",
              "       [ 1, 40],\n",
              "       [ 1, 60],\n",
              "       [ 1, 65],\n",
              "       [ 1, 35],\n",
              "       [ 1, 50],\n",
              "       [ 1, 75],\n",
              "       [ 1, 30],\n",
              "       [ 1, 30],\n",
              "       [ 1, 35],\n",
              "       [ 1, 50],\n",
              "       [ 1, 30],\n",
              "       [ 1, 80],\n",
              "       [ 1, 65],\n",
              "       [ 1, 65],\n",
              "       [ 1, 40],\n",
              "       [ 1, 75],\n",
              "       [ 1, 55],\n",
              "       [ 1, 40],\n",
              "       [ 1, 50],\n",
              "       [ 1, 65],\n",
              "       [ 1, 55],\n",
              "       [ 1, 45],\n",
              "       [ 1, 65],\n",
              "       [ 1, 35],\n",
              "       [ 1, 45],\n",
              "       [ 1, 65],\n",
              "       [ 1, 60],\n",
              "       [ 1, 55],\n",
              "       [ 1, 60],\n",
              "       [ 1, 55],\n",
              "       [ 1,  0],\n",
              "       [ 1, 60],\n",
              "       [ 1,  0],\n",
              "       [ 1, 90],\n",
              "       [ 1, 60],\n",
              "       [ 1, 40],\n",
              "       [ 1, 25],\n",
              "       [ 1, 75],\n",
              "       [ 1, 40],\n",
              "       [ 1, 50],\n",
              "       [ 1, 45],\n",
              "       [ 1, 45],\n",
              "       [ 1, 60],\n",
              "       [ 1, 45],\n",
              "       [ 1, 60],\n",
              "       [ 1, 55],\n",
              "       [ 1, 70],\n",
              "       [ 1, 90],\n",
              "       [ 1, 40],\n",
              "       [ 1, 60],\n",
              "       [ 1, 45],\n",
              "       [ 1, 85],\n",
              "       [ 1, 45],\n",
              "       [ 1, 50],\n",
              "       [ 1, 45],\n",
              "       [ 1,  0],\n",
              "       [ 1, 45],\n",
              "       [ 1, 70],\n",
              "       [ 1, 55],\n",
              "       [ 1, 70],\n",
              "       [ 1, 50],\n",
              "       [ 1, 60],\n",
              "       [ 1, 45],\n",
              "       [ 1, 45],\n",
              "       [ 1, 40],\n",
              "       [ 1, 55],\n",
              "       [ 1, 40],\n",
              "       [ 1, 45],\n",
              "       [ 1, 60],\n",
              "       [ 1, 45],\n",
              "       [ 1, 45],\n",
              "       [ 1, 50],\n",
              "       [ 1, 90],\n",
              "       [ 1, 60],\n",
              "       [ 1, 70],\n",
              "       [ 1, 65],\n",
              "       [ 1, 55],\n",
              "       [ 1, 75],\n",
              "       [ 1, 60],\n",
              "       [ 1, 90],\n",
              "       [ 1, 65],\n",
              "       [ 1, 60],\n",
              "       [ 1, 40],\n",
              "       [ 1, 65],\n",
              "       [ 1, 75],\n",
              "       [ 1, 50],\n",
              "       [ 1, 55],\n",
              "       [ 1, 60],\n",
              "       [ 1, 85],\n",
              "       [ 1, 70],\n",
              "       [ 1, 60],\n",
              "       [ 1, 90],\n",
              "       [ 1, 45],\n",
              "       [ 1, 60],\n",
              "       [ 1, 50],\n",
              "       [ 1, 60],\n",
              "       [ 1, 55],\n",
              "       [ 1, 50],\n",
              "       [ 1, 65],\n",
              "       [ 1, 55],\n",
              "       [ 1, 50],\n",
              "       [ 1, 55],\n",
              "       [ 1, 55],\n",
              "       [ 1, 65],\n",
              "       [ 1, 45],\n",
              "       [ 1, 55],\n",
              "       [ 1, 70],\n",
              "       [ 1, 75],\n",
              "       [ 1, 60],\n",
              "       [ 1, 75],\n",
              "       [ 1, 50],\n",
              "       [ 1, 45],\n",
              "       [ 1, 70],\n",
              "       [ 1, 40],\n",
              "       [ 1, 70],\n",
              "       [ 1,  0],\n",
              "       [ 1, 75],\n",
              "       [ 1, 65],\n",
              "       [ 1, 75],\n",
              "       [ 1, 50],\n",
              "       [ 1, 60],\n",
              "       [ 1, 75],\n",
              "       [ 1, 50],\n",
              "       [ 1, 65],\n",
              "       [ 1, 75],\n",
              "       [ 1, 50],\n",
              "       [ 1, 75],\n",
              "       [ 1, 65],\n",
              "       [ 1, 35],\n",
              "       [ 1, 65],\n",
              "       [ 1, 35],\n",
              "       [ 1, 40],\n",
              "       [ 1, 55],\n",
              "       [ 1, 45],\n",
              "       [ 1, 65],\n",
              "       [ 1, 60],\n",
              "       [ 1, 50],\n",
              "       [ 1, 80],\n",
              "       [ 1, 65],\n",
              "       [ 1, 60],\n",
              "       [ 1, 55],\n",
              "       [ 1, 75],\n",
              "       [ 1, 55],\n",
              "       [ 1, 50],\n",
              "       [ 1, 65],\n",
              "       [ 1, 50],\n",
              "       [ 1, 60],\n",
              "       [ 1, 35],\n",
              "       [ 1, 60],\n",
              "       [ 1, 55],\n",
              "       [ 1, 25],\n",
              "       [ 1, 90],\n",
              "       [ 1, 40],\n",
              "       [ 1, 70],\n",
              "       [ 1, 45],\n",
              "       [ 1, 75],\n",
              "       [ 1, 50],\n",
              "       [ 1, 70],\n",
              "       [ 1, 30],\n",
              "       [ 1, 55],\n",
              "       [ 1, 25],\n",
              "       [ 1, 45],\n",
              "       [ 1, 25],\n",
              "       [ 1, 45],\n",
              "       [ 1, 45],\n",
              "       [ 1, 80],\n",
              "       [ 1, 40],\n",
              "       [ 1, 60],\n",
              "       [ 1, 45]])"
            ]
          },
          "metadata": {
            "tags": []
          },
          "execution_count": 10
        }
      ]
    },
    {
      "cell_type": "code",
      "metadata": {
        "id": "WLI2q00DjSC5",
        "colab": {
          "base_uri": "https://localhost:8080/"
        },
        "outputId": "57dc4344-805c-421c-db61-3b0607184630"
      },
      "source": [
        "print(data.iloc[40:56,:])"
      ],
      "execution_count": null,
      "outputs": [
        {
          "output_type": "stream",
          "text": [
            "    1's  G2   G3\n",
            "40    1  50   55\n",
            "41    1  60   60\n",
            "42    1  90   90\n",
            "43    1  40   55\n",
            "44    1  50   45\n",
            "45    1  40   30\n",
            "46    1  60   55\n",
            "47    1  95  100\n",
            "48    1  75   70\n",
            "49    1  35   35\n",
            "50    1  65   65\n",
            "51    1  65   65\n",
            "52    1  55   50\n",
            "53    1  50   55\n",
            "54    1  65   65\n",
            "55    1  45   50\n"
          ],
          "name": "stdout"
        }
      ]
    },
    {
      "cell_type": "code",
      "metadata": {
        "id": "Vr6hl2EBUGqQ",
        "colab": {
          "base_uri": "https://localhost:8080/"
        },
        "outputId": "c4e3a26f-90c5-4cbe-a5d8-0c0b42f184df"
      },
      "source": [
        "X_shape = X.shape\n",
        "X_type  = X.dtype\n",
        "y_shape = y.shape\n",
        "y_type  = y.dtype\n",
        "print(f'X: Type-{X_type}, Shape-{X_shape}')\n",
        "print(f'y: Type-{y_type}, Shape-{y_shape}')"
      ],
      "execution_count": null,
      "outputs": [
        {
          "output_type": "stream",
          "text": [
            "X: Type-int64, Shape-(370, 2)\n",
            "y: Type-int64, Shape-(370,)\n"
          ],
          "name": "stdout"
        }
      ]
    },
    {
      "cell_type": "code",
      "metadata": {
        "id": "5x7EAtfZUbiQ",
        "colab": {
          "base_uri": "https://localhost:8080/",
          "height": 295
        },
        "outputId": "05554c8e-96bc-4abe-87be-194c821980e9"
      },
      "source": [
        "plt.scatter(X[:,1],y)\n",
        "plt.title('Relation between second year grades and third year grades')\n",
        "plt.xlabel('G2 (X - Second year grades)')\n",
        "plt.ylabel('G3 (Y - Third year grades)')\n",
        "plt.show()\n"
      ],
      "execution_count": null,
      "outputs": [
        {
          "output_type": "display_data",
          "data": {
            "image/png": "[encoded data removed]",
            "text/plain": [
              "<Figure size 432x288 with 1 Axes>"
            ]
          },
          "metadata": {
            "tags": [],
            "needs_background": "light"
          }
        }
      ]
    },
    {
      "cell_type": "code",
      "metadata": {
        "id": "lnFPdTRlWKqS"
      },
      "source": [
        "def predict(X, weights):\n",
        "    '''\n",
        "    weights   : array (2,1) w0 and w1\n",
        "    X         : array (m,2) x0 (intercept=1) and x1\n",
        "    \n",
        "    Returns predicted y using hyothesis linear function defined by given weights\n",
        "    '''\n",
        "    ### START CODE HERE ###\n",
        "\n",
        "    y_pred = np.dot(X,weights)\n",
        "    ### END CODE HERE ###\n",
        "    \n",
        "    assert (y_pred.shape==(X.shape[0],)), 'Wrong implementation of predict function. Check carefully'\n",
        "    \n",
        "    return y_pred"
      ],
      "execution_count": null,
      "outputs": []
    },
    {
      "cell_type": "code",
      "metadata": {
        "colab": {
          "base_uri": "https://localhost:8080/"
        },
        "id": "JGVip9677eIS",
        "outputId": "6de875a8-99f9-442a-acf8-a60932b44cca"
      },
      "source": [
        "weights = np.random.rand(2,)\r\n",
        "predict(X,weights)"
      ],
      "execution_count": null,
      "outputs": [
        {
          "output_type": "execute_result",
          "data": {
            "text/plain": [
              "(370,)"
            ]
          },
          "metadata": {
            "tags": []
          },
          "execution_count": 15
        }
      ]
    },
    {
      "cell_type": "code",
      "metadata": {
        "id": "6dFXIf4rYxB2"
      },
      "source": [
        "def mean_squared_error(y_true, y_pred) : \n",
        "    '''\n",
        "    y_true : (m,1)\n",
        "    y_pred : (m,1)\n",
        "    \n",
        "    Return the mean squared error\n",
        "    '''\n",
        "    ### START CODE HERE ###\n",
        "    loss = np.mean((y_true-y_pred)**2)\n",
        "    ### END CODE HERE ###\n",
        "    \n",
        "    return loss"
      ],
      "execution_count": null,
      "outputs": []
    },
    {
      "cell_type": "code",
      "metadata": {
        "id": "rGOA7qqLbdfD"
      },
      "source": [
        "def gradient(X, y_true, y_pred):\n",
        "    '''\n",
        "    X      : array (m,2)\n",
        "    y_true : array (m,1)\n",
        "    y_pred : array (m,1)\n",
        "    \n",
        "    Returns a numpy array with gradients. Shape (2,1)\n",
        "    '''\n",
        "    # Initialize the gradient vector for w0 (intercept/bias) and w1 respectively\n",
        "    grad = np.zeros(2,)\n",
        "    m=X.shape[0]\n",
        "    ### START CODE HERE ###\n",
        "    \n",
        "\n",
        "    grad[0] = np.mean((y_pred - y_true)*X[:, 0])\n",
        "    grad[1] = np.mean((y_pred-y_true)*X[:,1] )\n",
        "    \n",
        "    ### END CODE HERE ###\n",
        "    \n",
        "    return grad/(2*m)"
      ],
      "execution_count": null,
      "outputs": []
    },
    {
      "cell_type": "code",
      "metadata": {
        "id": "fjliLvbQjqFM"
      },
      "source": [
        "def gradient_descent(X, y, learning_rate=0.01, max_iterations=100):\n",
        "    '''\n",
        "    X              : Array (m,2)\n",
        "    y              : Array (m,1)\n",
        "    learning_rate  : Learning rate\n",
        "    max_iterations : Maximum iteratons\n",
        "    \n",
        "    Returns : weights vector (2,1)\n",
        "            : losses (List)\n",
        "    '''\n",
        "    # Initialise weights vector of random values of size (2,1)\n",
        "    weights = np.random.rand(2,)\n",
        "    # Initialize a list to record all the losses \n",
        "    losses  = []\n",
        "    \n",
        "    ### START CODE HERE ###\n",
        "    for i in range(max_iterations):\n",
        "      y_pred = predict(X,weights)\n",
        "      err = mean_squared_error(y,y_pred)\n",
        "      losses.append(err)\n",
        "\n",
        "      grad = gradient(X,y,y_pred)\n",
        "      weights[0]-=(learning_rate*grad[0])\n",
        "      weights[1]-=(learning_rate*grad[1])\n",
        "      print(\"Loss-\",i+1,losses[i])\n",
        "    ### END CODE HERE ###\n",
        "    \n",
        "    return weights, losses"
      ],
      "execution_count": null,
      "outputs": []
    },
    {
      "cell_type": "code",
      "metadata": {
        "id": "8_Olkr8Anxh1",
        "colab": {
          "base_uri": "https://localhost:8080/",
          "height": 1000
        },
        "outputId": "67fe5694-1c86-48d0-948b-64e60fcd58a6"
      },
      "source": [
        "optimal_weights, losses = gradient_descent(X, y)"
      ],
      "execution_count": null,
      "outputs": [
        {
          "output_type": "stream",
          "text": [
            "Loss- 1 2667.6951809532466\n",
            "Loss- 2 2433.0485779748738\n",
            "Loss- 3 2219.1735932791353\n",
            "Loss- 4 2024.2314611619336\n",
            "Loss- 5 1846.5461889524786\n",
            "Loss- 6 1684.590147858106\n",
            "Loss- 7 1536.970939350561\n",
            "Loss- 8 1402.4194241789978\n",
            "Loss- 9 1279.7788110905203\n",
            "Loss- 10 1167.994711449769\n",
            "Loss- 11 1066.1060742532964\n",
            "Loss- 12 973.2369236035508\n",
            "Loss- 13 888.5888276063479\n",
            "Loss- 14 811.4340339440333\n",
            "Loss- 15 741.1092131082203\n",
            "Loss- 16 677.0097555002536\n",
            "Loss- 17 618.5845733693781\n",
            "Loss- 18 565.3313628988709\n",
            "Loss- 19 516.7922857064623\n",
            "Loss- 20 472.55003263124036\n",
            "Loss- 21 432.224235965898\n",
            "Loss- 22 395.4681992889006\n",
            "Loss- 23 361.9659167816774\n",
            "Loss- 24 331.42935640476367\n",
            "Loss- 25 303.5959835753022\n",
            "Loss- 26 278.22650405601377\n",
            "Loss- 27 255.10280665037743\n",
            "Loss- 28 234.02608801657988\n",
            "Loss- 29 214.815143478536\n",
            "Loss- 30 197.30480913942313\n",
            "Loss- 31 181.34454190398125\n",
            "Loss- 32 166.79712520147928\n",
            "Loss- 33 153.53748928195162\n",
            "Loss- 34 141.45163594333684\n",
            "Loss- 35 130.43565844498139\n",
            "Loss- 36 120.39484818132809\n",
            "Loss- 37 111.2428804355192\n",
            "Loss- 38 102.90107221252171\n",
            "Loss- 39 95.29770577108303\n",
            "Loss- 40 88.36741203865785\n",
            "Loss- 41 82.05060860828782\n",
            "Loss- 42 76.29298748567675\n",
            "Loss- 43 71.04504818242496\n",
            "Loss- 44 66.26167214124483\n",
            "Loss- 45 61.901734834328266\n",
            "Loss- 46 57.92775219992568\n",
            "Loss- 47 54.30555837741411\n",
            "Loss- 48 51.0040119702212\n",
            "Loss- 49 47.99472831123176\n",
            "Loss- 50 45.25183542886094\n",
            "Loss- 51 42.75175161573907\n",
            "Loss- 52 40.472982687681565\n",
            "Loss- 53 38.395937189900245\n",
            "Loss- 54 36.5027579617128\n",
            "Loss- 55 34.77716861164749\n",
            "Loss- 56 33.20433358303021\n",
            "Loss- 57 31.770730606983882\n",
            "Loss- 58 30.46403444626908\n",
            "Loss- 59 29.273010930467727\n",
            "Loss- 60 28.187420371488344\n",
            "Loss- 61 27.197929529019678\n",
            "Loss- 62 26.296031369065215\n",
            "Loss- 63 25.47397192569192\n",
            "Loss- 64 24.7246836371956\n",
            "Loss- 65 24.04172458354796\n",
            "Loss- 66 23.41922310272643\n",
            "Loss- 67 22.85182730977173\n",
            "Loss- 68 22.334659084569648\n",
            "Loss- 69 21.863272132771407\n",
            "Loss- 70 21.433613759287137\n",
            "Loss- 71 21.041990025703285\n",
            "Loss- 72 20.68503399207015\n",
            "Loss- 73 20.359676770020833\n",
            "Loss- 74 20.063121138354763\n",
            "Loss- 75 19.79281749424852\n",
            "Loss- 76 19.546441933337416\n",
            "Loss- 77 19.321876270213608\n",
            "Loss- 78 19.11718982756941\n",
            "Loss- 79 18.930622837420284\n",
            "Loss- 80 18.760571311700776\n",
            "Loss- 81 18.605573252160838\n",
            "Loss- 82 18.464296081003106\n",
            "Loss- 83 18.335525184197838\n",
            "Loss- 84 18.218153468977764\n",
            "Loss- 85 18.111171845734727\n",
            "Loss- 86 18.013660552487263\n",
            "Loss- 87 17.92478124733226\n",
            "Loss- 88 17.84376980089632\n",
            "Loss- 89 17.769929726820987\n",
            "Loss- 90 17.70262619380095\n",
            "Loss- 91 17.641280567694533\n",
            "Loss- 92 17.585365436782975\n",
            "Loss- 93 17.534400077408378\n",
            "Loss- 94 17.487946321007236\n",
            "Loss- 95 17.445604787006243\n",
            "Loss- 96 17.40701144919359\n",
            "Loss- 97 17.37183450604521\n",
            "Loss- 98 17.33977152809921\n",
            "Loss- 99 17.310546857853133\n",
            "Loss- 100 17.28390923983014\n"
          ],
          "name": "stdout"
        }
      ]
    },
    {
      "cell_type": "code",
      "metadata": {
        "id": "kvlH8Ndrnyql",
        "colab": {
          "base_uri": "https://localhost:8080/",
          "height": 34
        },
        "outputId": "19119f00-99b7-4d4e-c24a-fd3dac44be69"
      },
      "source": [
        "print(\"Mean squared error:\", losses[-1])"
      ],
      "execution_count": null,
      "outputs": [
        {
          "output_type": "stream",
          "text": [
            "Mean squared error: 17.28390923983014\n"
          ],
          "name": "stdout"
        }
      ]
    },
    {
      "cell_type": "code",
      "metadata": {
        "id": "uuKGomV9lScJ",
        "colab": {
          "base_uri": "https://localhost:8080/",
          "height": 295
        },
        "outputId": "463c9982-5aaf-40ee-f33f-43aba59c86b0"
      },
      "source": [
        "plt.plot([i for i in range(len(losses))], losses)\n",
        "plt.title(\"Loss curve\")\n",
        "plt.xlabel(\"Iteration num\")\n",
        "plt.ylabel(\"Loss\")\n",
        "plt.show()"
      ],
      "execution_count": null,
      "outputs": [
        {
          "output_type": "display_data",
          "data": {
            "image/png": "[encoded data removed]",
            "text/plain": [
              "<Figure size 432x288 with 1 Axes>"
            ]
          },
          "metadata": {
            "tags": [],
            "needs_background": "light"
          }
        }
      ]
    },
    {
      "cell_type": "code",
      "metadata": {
        "id": "nybmL4LglYLy"
      },
      "source": [
        "y_pred = predict(X, optimal_weights)"
      ],
      "execution_count": null,
      "outputs": []
    },
    {
      "cell_type": "code",
      "metadata": {
        "id": "tHc2KasXlcYn",
        "colab": {
          "base_uri": "https://localhost:8080/",
          "height": 295
        },
        "outputId": "b702f473-ab3f-4e1e-fa89-68a51b86a15c"
      },
      "source": [
        "plt.scatter(X[:,1], y, c='r', label='Actual scores')\n",
        "plt.plot(X[:,1], y_pred, c='g', label='Fitted line | predictions')\n",
        "plt.legend()\n",
        "plt.title(\"Linear regression fitted line\")\n",
        "plt.xlabel(\"Second year grades\")\n",
        "plt.ylabel(\"Third year grades\")\n",
        "plt.show()"
      ],
      "execution_count": null,
      "outputs": [
        {
          "output_type": "display_data",
          "data": {
            "image/png": "[encoded data removed]",
            "text/plain": [
              "<Figure size 432x288 with 1 Axes>"
            ]
          },
          "metadata": {
            "tags": [],
            "needs_background": "light"
          }
        }
      ]
    },
    {
      "cell_type": "code",
      "metadata": {
        "id": "dpLgI0lZlfBX"
      },
      "source": [
        ""
      ],
      "execution_count": null,
      "outputs": []
    }
  ]
}