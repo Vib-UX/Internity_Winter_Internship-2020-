{
  "nbformat": 4,
  "nbformat_minor": 0,
  "metadata": {
    "colab": {
      "name": "Linear ALgebra.ipynb",
      "provenance": []
    },
    "kernelspec": {
      "name": "python3",
      "display_name": "Python 3"
    }
  },
  "cells": [
    {
      "cell_type": "code",
      "metadata": {
        "id": "hbyYvkh4n6Vb"
      },
      "source": [
        "import numpy as np\r\n",
        "import pandas as pd"
      ],
      "execution_count": 1,
      "outputs": []
    },
    {
      "cell_type": "markdown",
      "metadata": {
        "id": "mBVmD22yrnGH"
      },
      "source": [
        "## Vectors"
      ]
    },
    {
      "cell_type": "code",
      "metadata": {
        "colab": {
          "base_uri": "https://localhost:8080/"
        },
        "id": "XsDoM6RlnMJo",
        "outputId": "6da98852-89bc-4aaf-9832-e0f70ff8499b"
      },
      "source": [
        "from numpy import array\r\n",
        "\r\n",
        "v = array([1, 2, 3])\r\n",
        "v"
      ],
      "execution_count": 13,
      "outputs": [
        {
          "output_type": "execute_result",
          "data": {
            "text/plain": [
              "array([1, 2, 3])"
            ]
          },
          "metadata": {
            "tags": []
          },
          "execution_count": 13
        }
      ]
    },
    {
      "cell_type": "markdown",
      "metadata": {
        "id": "sQ6Z8L-noVSl"
      },
      "source": [
        "Vector Addition"
      ]
    },
    {
      "cell_type": "code",
      "metadata": {
        "colab": {
          "base_uri": "https://localhost:8080/"
        },
        "id": "pkRVXjNAoGgp",
        "outputId": "81c53bfb-b199-4f8e-e658-dc8d0e94e838"
      },
      "source": [
        "a = array([1, 2, 3])\r\n",
        "print(a)\r\n",
        "\r\n",
        "\r\n",
        "\r\n",
        "b = array([4, 5, 6])\r\n",
        "\r\n",
        "\r\n",
        "c = a + b\r\n",
        "c"
      ],
      "execution_count": 12,
      "outputs": [
        {
          "output_type": "stream",
          "text": [
            "[1 2 3]\n"
          ],
          "name": "stdout"
        },
        {
          "output_type": "execute_result",
          "data": {
            "text/plain": [
              "array([5, 7, 9])"
            ]
          },
          "metadata": {
            "tags": []
          },
          "execution_count": 12
        }
      ]
    },
    {
      "cell_type": "markdown",
      "metadata": {
        "id": "6Vsf5t8noXoX"
      },
      "source": [
        "Vector Subtraction"
      ]
    },
    {
      "cell_type": "code",
      "metadata": {
        "colab": {
          "base_uri": "https://localhost:8080/"
        },
        "id": "bx5j4QM3oHvG",
        "outputId": "6d742a0a-a287-4e36-acbc-8a95dc4ea3b8"
      },
      "source": [
        "a = array([1.0, 1.0, 1.0])\r\n",
        "\r\n",
        "\r\n",
        "b = array([0.2, 0.2, 0.2])\r\n",
        "\r\n",
        "\r\n",
        "c = a - b\r\n",
        "print(c)"
      ],
      "execution_count": 10,
      "outputs": [
        {
          "output_type": "stream",
          "text": [
            "[0.8 0.8 0.8]\n"
          ],
          "name": "stdout"
        }
      ]
    },
    {
      "cell_type": "markdown",
      "metadata": {
        "id": "lpW5z9hKolsl"
      },
      "source": [
        "Vector Multiplication"
      ]
    },
    {
      "cell_type": "code",
      "metadata": {
        "colab": {
          "base_uri": "https://localhost:8080/"
        },
        "id": "7UsbpfngoKVW",
        "outputId": "eefaf12b-2169-43d1-dce8-5f8087f2d508"
      },
      "source": [
        "a21 = array([1, 2, 4])\r\n",
        "\r\n",
        "b21 = array([1, 2, 1])\r\n",
        "\r\n",
        "c21 = a21 * b21\r\n",
        "print(c21)"
      ],
      "execution_count": 8,
      "outputs": [
        {
          "output_type": "stream",
          "text": [
            "[1 4 4]\n"
          ],
          "name": "stdout"
        }
      ]
    },
    {
      "cell_type": "markdown",
      "metadata": {
        "id": "eyqTAUdPopZs"
      },
      "source": [
        "Vector Division"
      ]
    },
    {
      "cell_type": "code",
      "metadata": {
        "colab": {
          "base_uri": "https://localhost:8080/"
        },
        "id": "JhHgeUvaoNwv",
        "outputId": "c016eba0-0cec-4e49-f607-d62d29e14aa4"
      },
      "source": [
        "\r\n",
        "a31 = array([1, 2, 3])\r\n",
        "\r\n",
        "b31 = array([0.1, 0.2, 0.3])\r\n",
        "\r\n",
        "\r\n",
        "c31 = a31 / b31\r\n",
        "print(c31)"
      ],
      "execution_count": 7,
      "outputs": [
        {
          "output_type": "stream",
          "text": [
            "[10. 10. 10.]\n"
          ],
          "name": "stdout"
        }
      ]
    },
    {
      "cell_type": "markdown",
      "metadata": {
        "id": "N6jtu4IsqgKx"
      },
      "source": [
        "Dot Multiplication"
      ]
    },
    {
      "cell_type": "code",
      "metadata": {
        "colab": {
          "base_uri": "https://localhost:8080/"
        },
        "id": "KJ6fB_PpoOOH",
        "outputId": "a9c05482-64b1-40ee-d938-40a3f6f93699"
      },
      "source": [
        "a = array([1, 2, 3])\r\n",
        "\r\n",
        "\r\n",
        "b = array([2, 2, 2])\r\n",
        "\r\n",
        "\r\n",
        "c = a.dot(b)\r\n",
        "c"
      ],
      "execution_count": 14,
      "outputs": [
        {
          "output_type": "execute_result",
          "data": {
            "text/plain": [
              "12"
            ]
          },
          "metadata": {
            "tags": []
          },
          "execution_count": 14
        }
      ]
    },
    {
      "cell_type": "markdown",
      "metadata": {
        "id": "4XYD2pEUquJk"
      },
      "source": [
        "Scalar Multiply"
      ]
    },
    {
      "cell_type": "code",
      "metadata": {
        "colab": {
          "base_uri": "https://localhost:8080/"
        },
        "id": "lY6Nm4A1qkc4",
        "outputId": "690ac49f-1955-475d-9349-7888d869de20"
      },
      "source": [
        "a = array([1, 2, 3])\r\n",
        "print(a)\r\n",
        "\r\n",
        "s = 0.5\r\n",
        "print(s)\r\n",
        "\r\n",
        "c = a * s\r\n",
        "print(c)"
      ],
      "execution_count": 15,
      "outputs": [
        {
          "output_type": "stream",
          "text": [
            "[1 2 3]\n",
            "0.5\n",
            "[0.5 1.  1.5]\n"
          ],
          "name": "stdout"
        }
      ]
    },
    {
      "cell_type": "markdown",
      "metadata": {
        "id": "bW2gnenhrBS3"
      },
      "source": [
        "Norm"
      ]
    },
    {
      "cell_type": "code",
      "metadata": {
        "colab": {
          "base_uri": "https://localhost:8080/"
        },
        "id": "EfqQjOROqwPo",
        "outputId": "065202c3-bb0c-4b9c-ba24-53d480d0fb3f"
      },
      "source": [
        "from numpy.linalg import norm\r\n",
        "a = array([1, 2, 3])\r\n",
        "\r\n",
        "# calculate norm\r\n",
        "l1 = norm(a, 1)\r\n",
        "print(l1)\r\n",
        "l2 = norm(a,2)\r\n",
        "print(l2)\r\n"
      ],
      "execution_count": 18,
      "outputs": [
        {
          "output_type": "stream",
          "text": [
            "6.0\n",
            "3.7416573867739413\n"
          ],
          "name": "stdout"
        }
      ]
    },
    {
      "cell_type": "markdown",
      "metadata": {
        "id": "sZmeKw6NrizR"
      },
      "source": [
        "## Matrices"
      ]
    },
    {
      "cell_type": "code",
      "metadata": {
        "id": "8K7yqWzNq5aZ"
      },
      "source": [
        "# create matrix\r\n",
        "from numpy import array\r\n",
        "A = array([])"
      ],
      "execution_count": 19,
      "outputs": []
    },
    {
      "cell_type": "markdown",
      "metadata": {
        "id": "44FTSZGCr9nt"
      },
      "source": [
        "Addition"
      ]
    },
    {
      "cell_type": "code",
      "metadata": {
        "colab": {
          "base_uri": "https://localhost:8080/"
        },
        "id": "nLXTv-8brqtQ",
        "outputId": "6e11fc76-e475-4510-8e2f-db69df69936f"
      },
      "source": [
        "A = array([\r\n",
        "    [1, 2, 3],\r\n",
        "    [4, 5, 6]\r\n",
        "])\r\n",
        "\r\n",
        "\r\n",
        "B = array([\r\n",
        "    [1, 2, 3],\r\n",
        "    [4, 5, 6]\r\n",
        "])\r\n",
        "\r\n",
        "C = A + B\r\n",
        "C"
      ],
      "execution_count": 20,
      "outputs": [
        {
          "output_type": "execute_result",
          "data": {
            "text/plain": [
              "array([[ 2,  4,  6],\n",
              "       [ 8, 10, 12]])"
            ]
          },
          "metadata": {
            "tags": []
          },
          "execution_count": 20
        }
      ]
    },
    {
      "cell_type": "markdown",
      "metadata": {
        "id": "inxvgIc4r_E1"
      },
      "source": [
        "Subtraction"
      ]
    },
    {
      "cell_type": "code",
      "metadata": {
        "colab": {
          "base_uri": "https://localhost:8080/"
        },
        "id": "Fz0IbQ6Rr2Ex",
        "outputId": "ef7068ff-3e9b-4be4-adaa-a7b0e870b7df"
      },
      "source": [
        "A = array([\r\n",
        "    [1, 2, 3],\r\n",
        "    [4, 5, 6]\r\n",
        "])\r\n",
        "\r\n",
        "\r\n",
        "\r\n",
        "B = array([\r\n",
        "    [0.1, 0.1, 0.1],\r\n",
        "    [0.1, 0.1, 0.1]\r\n",
        "])\r\n",
        "\r\n",
        "C = A - B\r\n",
        "C"
      ],
      "execution_count": 22,
      "outputs": [
        {
          "output_type": "execute_result",
          "data": {
            "text/plain": [
              "array([[0.9, 1.9, 2.9],\n",
              "       [3.9, 4.9, 5.9]])"
            ]
          },
          "metadata": {
            "tags": []
          },
          "execution_count": 22
        }
      ]
    },
    {
      "cell_type": "markdown",
      "metadata": {
        "id": "If3s_vyGsLhH"
      },
      "source": [
        "Multiplication with each element"
      ]
    },
    {
      "cell_type": "code",
      "metadata": {
        "colab": {
          "base_uri": "https://localhost:8080/"
        },
        "id": "0Cmhb1m7r8ZX",
        "outputId": "3f9f1b61-9a47-4bbd-c335-0a8347dccdfc"
      },
      "source": [
        "A = array([\r\n",
        "    [1, 2, 3],\r\n",
        "    [4, 5, 6]\r\n",
        "])\r\n",
        "\r\n",
        "\r\n",
        "B = array([\r\n",
        "    [2, 2, 2],\r\n",
        "    [2, 2, 2]\r\n",
        "])\r\n",
        "\r\n",
        "\r\n",
        "C = A * B\r\n",
        "C"
      ],
      "execution_count": 23,
      "outputs": [
        {
          "output_type": "execute_result",
          "data": {
            "text/plain": [
              "array([[ 2,  4,  6],\n",
              "       [ 8, 10, 12]])"
            ]
          },
          "metadata": {
            "tags": []
          },
          "execution_count": 23
        }
      ]
    },
    {
      "cell_type": "markdown",
      "metadata": {
        "id": "hVr58atesRfa"
      },
      "source": [
        "Division"
      ]
    },
    {
      "cell_type": "code",
      "metadata": {
        "colab": {
          "base_uri": "https://localhost:8080/"
        },
        "id": "qRUE7WNNsKxd",
        "outputId": "da2d90be-6f51-4fbb-d370-66743b951946"
      },
      "source": [
        "A = array([\r\n",
        "    [1, 2, 3],\r\n",
        "    [4, 5, 6]\r\n",
        "])\r\n",
        "\r\n",
        "B = array([\r\n",
        "    [2, 2, 2],\r\n",
        "    [2, 2, 2]\r\n",
        "])\r\n",
        "\r\n",
        "C = A / B\r\n",
        "C"
      ],
      "execution_count": 25,
      "outputs": [
        {
          "output_type": "execute_result",
          "data": {
            "text/plain": [
              "array([[0.5, 1. , 1.5],\n",
              "       [2. , 2.5, 3. ]])"
            ]
          },
          "metadata": {
            "tags": []
          },
          "execution_count": 25
        }
      ]
    },
    {
      "cell_type": "markdown",
      "metadata": {
        "id": "FXpd-PNUtCq5"
      },
      "source": [
        "Actual Matrix Multiplication"
      ]
    },
    {
      "cell_type": "code",
      "metadata": {
        "colab": {
          "base_uri": "https://localhost:8080/"
        },
        "id": "VG-ISFThsSt_",
        "outputId": "0906f093-973b-47ca-cc86-ec2748473b95"
      },
      "source": [
        "\r\n",
        "A = array([\r\n",
        "    [1, 2],\r\n",
        "    [3, 4],\r\n",
        "    [5, 6]\r\n",
        "])\r\n",
        "print(A.shape)\r\n",
        "\r\n",
        "B = array([\r\n",
        "    [1, 2],\r\n",
        "    [3, 4]\r\n",
        "])\r\n",
        "print(B.shape)\r\n",
        "\r\n",
        "C = A.dot(B)\r\n",
        "print(C)\r\n",
        "\r\n",
        "D = A @ B\r\n",
        "print(D)\r\n",
        "print(D.shape)"
      ],
      "execution_count": 31,
      "outputs": [
        {
          "output_type": "stream",
          "text": [
            "(3, 2)\n",
            "(2, 2)\n",
            "[[ 7 10]\n",
            " [15 22]\n",
            " [23 34]]\n",
            "[[ 7 10]\n",
            " [15 22]\n",
            " [23 34]]\n",
            "(3, 2)\n"
          ],
          "name": "stdout"
        }
      ]
    },
    {
      "cell_type": "markdown",
      "metadata": {
        "id": "zWq2TdTgtjGJ"
      },
      "source": [
        "Transpose Matrix"
      ]
    },
    {
      "cell_type": "code",
      "metadata": {
        "colab": {
          "base_uri": "https://localhost:8080/"
        },
        "id": "M1pijSnDsr-2",
        "outputId": "90aeb638-2469-4d01-942f-0743b6737e36"
      },
      "source": [
        "print(A)\r\n",
        "A.T"
      ],
      "execution_count": 33,
      "outputs": [
        {
          "output_type": "stream",
          "text": [
            "[[1 2]\n",
            " [3 4]\n",
            " [5 6]]\n"
          ],
          "name": "stdout"
        },
        {
          "output_type": "execute_result",
          "data": {
            "text/plain": [
              "array([[1, 3, 5],\n",
              "       [2, 4, 6]])"
            ]
          },
          "metadata": {
            "tags": []
          },
          "execution_count": 33
        }
      ]
    },
    {
      "cell_type": "markdown",
      "metadata": {
        "id": "3AjMUIqBv0EL"
      },
      "source": [
        "## Application of Linear Algebra in ML (Principal Component Analysis)"
      ]
    },
    {
      "cell_type": "code",
      "metadata": {
        "id": "FLaleEoBtntX"
      },
      "source": [
        "import numpy as np\r\n",
        " \r\n",
        "def PCA(X , num_components):\r\n",
        "     \r\n",
        "    \r\n",
        "    X_meaned = X - np.mean(X , axis = 0)\r\n",
        "     \r\n",
        "    \r\n",
        "    cov_mat = np.cov(X_meaned , rowvar = False)\r\n",
        "     \r\n",
        "    \r\n",
        "    eigen_values , eigen_vectors = np.linalg.eigh(cov_mat)\r\n",
        "     \r\n",
        "    \r\n",
        "    sorted_index = np.argsort(eigen_values)[::-1]\r\n",
        "    sorted_eigenvalue = eigen_values[sorted_index]\r\n",
        "    sorted_eigenvectors = eigen_vectors[:,sorted_index]\r\n",
        "     \r\n",
        "    \r\n",
        "    eigenvector_subset = sorted_eigenvectors[:,0:num_components]\r\n",
        "     \r\n",
        "    \r\n",
        "    X_reduced = np.dot(eigenvector_subset.transpose() , X_meaned.transpose() ).transpose()\r\n",
        "     \r\n",
        "    return X_reduced"
      ],
      "execution_count": 34,
      "outputs": []
    },
    {
      "cell_type": "code",
      "metadata": {
        "id": "6JXcN_6hwFfD"
      },
      "source": [
        "#Generate a dummy dataset.\r\n",
        "X_original = np.random.randint(10,50,100).reshape(20,5) \r\n",
        "X_reduced = PCA(X_original,2)"
      ],
      "execution_count": 36,
      "outputs": []
    },
    {
      "cell_type": "code",
      "metadata": {
        "colab": {
          "base_uri": "https://localhost:8080/"
        },
        "id": "1powoBwLws1O",
        "outputId": "f89da38d-cc48-4bb5-d39d-0c2d2becc5b6"
      },
      "source": [
        "X_reduced"
      ],
      "execution_count": 37,
      "outputs": [
        {
          "output_type": "execute_result",
          "data": {
            "text/plain": [
              "array([[ 15.08080908,   6.20753767],\n",
              "       [-12.01584672,  11.27619551],\n",
              "       [ -6.57841983,   4.22188015],\n",
              "       [-21.73092288, -10.2826239 ],\n",
              "       [  4.14798098, -12.15307761],\n",
              "       [-13.89599794,  11.7059611 ],\n",
              "       [ -9.32565909,  18.20971707],\n",
              "       [ 25.20727471,  -4.93449093],\n",
              "       [ 11.63601627,   6.09946328],\n",
              "       [  3.2780548 ,  -2.864645  ],\n",
              "       [  4.08009432,  -8.87159166],\n",
              "       [ -6.53702616, -28.95817872],\n",
              "       [-13.59627824,  12.3460562 ],\n",
              "       [  0.58159469,  -5.11901503],\n",
              "       [-17.25971713,  -7.50027415],\n",
              "       [ -5.76377073, -14.62176774],\n",
              "       [  0.08637357,  14.67918526],\n",
              "       [ 22.54654749,   0.73710976],\n",
              "       [  2.04971221,   6.19576981],\n",
              "       [ 18.0091806 ,   3.62678893]])"
            ]
          },
          "metadata": {
            "tags": []
          },
          "execution_count": 37
        }
      ]
    },
    {
      "cell_type": "code",
      "metadata": {
        "colab": {
          "base_uri": "https://localhost:8080/",
          "height": 406
        },
        "id": "6D5jpJbhw4uc",
        "outputId": "88ffb06b-c683-4b37-fba6-acd221d0e958"
      },
      "source": [
        "import seaborn as sb\r\n",
        "import matplotlib.pyplot as plt\r\n",
        " \r\n",
        "plt.figure(figsize = (6,6))\r\n",
        "\r\n",
        "principal_df = pd.DataFrame(X_reduced , columns = ['PC1','PC2'])\r\n",
        "sb.scatterplot(data = principal_df , x = 'PC1',y = 'PC2' ,   s = 60 , palette= 'icefire')"
      ],
      "execution_count": 38,
      "outputs": [
        {
          "output_type": "execute_result",
          "data": {
            "text/plain": [
              "<matplotlib.axes._subplots.AxesSubplot at 0x7fcbcccd77b8>"
            ]
          },
          "metadata": {
            "tags": []
          },
          "execution_count": 38
        },
        {
          "output_type": "display_data",
          "data": {
            "image/png": "[encoded data removed]",
            "text/plain": [
              "<Figure size 432x432 with 1 Axes>"
            ]
          },
          "metadata": {
            "tags": [],
            "needs_background": "light"
          }
        }
      ]
    },
    {
      "cell_type": "code",
      "metadata": {
        "colab": {
          "base_uri": "https://localhost:8080/",
          "height": 279
        },
        "id": "baUG4IiTx2Nc",
        "outputId": "5101ac40-5cdf-45cd-ce83-f83786e93b33"
      },
      "source": [
        "x = np.linspace(0, 10, num=50)\r\n",
        "\r\n",
        "random = np.random.RandomState(42)  # we use the same random seed so we get deterministic output\r\n",
        "theta = random.randn()              # we use a random theta, our goal is to perform linear regression which finds theta_hat that minimizes the objective\r\n",
        "y = theta * x + random.rand(len(x)) # our theta is corrupted by some noise, so that we do not get (x,y) on a line\r\n",
        "\r\n",
        "plt.scatter(x, y);\r\n",
        "plt.xlabel('x');\r\n",
        "plt.ylabel('y');"
      ],
      "execution_count": 39,
      "outputs": [
        {
          "output_type": "display_data",
          "data": {
            "image/png": "[encoded data removed]",
            "text/plain": [
              "<Figure size 432x288 with 1 Axes>"
            ]
          },
          "metadata": {
            "tags": [],
            "needs_background": "light"
          }
        }
      ]
    },
    {
      "cell_type": "code",
      "metadata": {
        "id": "Y_vMeuht2G73"
      },
      "source": [
        "X = x.reshape(-1,1)\r\n",
        "Y = y.reshape(-1,1)\r\n",
        "theta_hat = np.linalg.solve(X.T @ X, X.T @ Y)"
      ],
      "execution_count": 41,
      "outputs": []
    },
    {
      "cell_type": "code",
      "metadata": {
        "colab": {
          "base_uri": "https://localhost:8080/",
          "height": 279
        },
        "id": "ttjpd23V2J5b",
        "outputId": "de8fd1af-43fa-4baa-b4ea-eb97552aeabd"
      },
      "source": [
        "fig, ax = plt.subplots()\r\n",
        "ax.scatter(x, y);\r\n",
        "xx = [0, 10]\r\n",
        "yy = [0, 10 * theta_hat[0,0]]\r\n",
        "ax.plot(xx, yy, 'red', alpha=.5);\r\n",
        "ax.set(xlabel='x', ylabel='y');"
      ],
      "execution_count": 43,
      "outputs": [
        {
          "output_type": "display_data",
          "data": {
            "image/png": "[encoded data removed]",
            "text/plain": [
              "<Figure size 432x288 with 1 Axes>"
            ]
          },
          "metadata": {
            "tags": [],
            "needs_background": "light"
          }
        }
      ]
    }
  ]
}