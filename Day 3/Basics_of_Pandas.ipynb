{
  "nbformat": 4,
  "nbformat_minor": 0,
  "metadata": {
    "colab": {
      "name": "Vibhav_pandas.ipynb",
      "provenance": []
    },
    "kernelspec": {
      "name": "python3",
      "display_name": "Python 3"
    }
  },
  "cells": [
    {
      "cell_type": "code",
      "metadata": {
        "id": "Xn5VHZ_vpG8k"
      },
      "source": [
        "import numpy as np\n",
        "import pandas as pd \n",
        "from pandas import Series, DataFrame "
      ],
      "execution_count": 15,
      "outputs": []
    },
    {
      "cell_type": "code",
      "metadata": {
        "colab": {
          "base_uri": "https://localhost:8080/"
        },
        "id": "S40-wS5vpG8l",
        "outputId": "744868b7-6bad-475a-f5e9-dc7cbbe5c85f"
      },
      "source": [
        "mjp= Series([5,4,3,2,1])# a simple series\n",
        "print(mjp)        # A series is represented by index on the left and values on the right\n",
        "print (mjp.values) # similar to dictionary. \".values\" command returns values in a series "
      ],
      "execution_count": null,
      "outputs": [
        {
          "output_type": "stream",
          "text": [
            "0    5\n",
            "1    4\n",
            "2    3\n",
            "3    2\n",
            "4    1\n",
            "dtype: int64\n",
            "[5 4 3 2 1]\n"
          ],
          "name": "stdout"
        }
      ]
    },
    {
      "cell_type": "code",
      "metadata": {
        "colab": {
          "base_uri": "https://localhost:8080/"
        },
        "id": "ZDhZBQRhpG8m",
        "outputId": "7dd3090f-3c9e-454c-a776-ca39333a92e7"
      },
      "source": [
        "print (mjp.index) # returns the index values of the series"
      ],
      "execution_count": null,
      "outputs": [
        {
          "output_type": "stream",
          "text": [
            "RangeIndex(start=0, stop=5, step=1)\n"
          ],
          "name": "stdout"
        }
      ]
    },
    {
      "cell_type": "code",
      "metadata": {
        "colab": {
          "base_uri": "https://localhost:8080/"
        },
        "id": "91yTTmzLpG8m",
        "outputId": "19d66e92-2cd9-41cc-f131-34da29a30b0d"
      },
      "source": [
        "sample = Series([5,4,3,2,1,-7,-29], index =['a','b','c','d','e','f','h']) # The index is specified\n",
        "print (sample) \n",
        "print (sample['a']) # selecting a particular value from a Series, by using index"
      ],
      "execution_count": null,
      "outputs": [
        {
          "output_type": "stream",
          "text": [
            "a     5\n",
            "b     4\n",
            "c     3\n",
            "d     2\n",
            "e     1\n",
            "f    -7\n",
            "h   -29\n",
            "dtype: int64\n",
            "5\n"
          ],
          "name": "stdout"
        }
      ]
    },
    {
      "cell_type": "code",
      "metadata": {
        "colab": {
          "base_uri": "https://localhost:8080/"
        },
        "id": "07b59AxApG8n",
        "outputId": "b5872c3a-ff14-411c-bb64-210e5e402878"
      },
      "source": [
        "sample['d'] = 9 # change the value of a particular element in series\n",
        "print (sample)\n",
        "sample[['a','b','c']] # select a group of values"
      ],
      "execution_count": null,
      "outputs": [
        {
          "output_type": "stream",
          "text": [
            "a     5\n",
            "b     4\n",
            "c     3\n",
            "d     9\n",
            "e     1\n",
            "f    -7\n",
            "h   -29\n",
            "dtype: int64\n"
          ],
          "name": "stdout"
        },
        {
          "output_type": "execute_result",
          "data": {
            "text/plain": [
              "a    5\n",
              "b    4\n",
              "c    3\n",
              "dtype: int64"
            ]
          },
          "metadata": {
            "tags": []
          },
          "execution_count": 6
        }
      ]
    },
    {
      "cell_type": "code",
      "metadata": {
        "colab": {
          "base_uri": "https://localhost:8080/"
        },
        "id": "bSp_NwYQpG8n",
        "outputId": "8934b920-3647-4a0f-c192-f588ff3b8daa"
      },
      "source": [
        "print (sample[sample>0]) # returns only the positive values\n",
        "print (sample *2) # multiplies 2 to each element of a series"
      ],
      "execution_count": null,
      "outputs": [
        {
          "output_type": "stream",
          "text": [
            "a    5\n",
            "b    4\n",
            "c    3\n",
            "d    9\n",
            "e    1\n",
            "dtype: int64\n",
            "a    10\n",
            "b     8\n",
            "c     6\n",
            "d    18\n",
            "e     2\n",
            "f   -14\n",
            "h   -58\n",
            "dtype: int64\n"
          ],
          "name": "stdout"
        }
      ]
    },
    {
      "cell_type": "code",
      "metadata": {
        "colab": {
          "base_uri": "https://localhost:8080/"
        },
        "id": "pQthlsv6pG8n",
        "outputId": "9baa7dea-20f7-45b6-931f-738e0e83b372"
      },
      "source": [
        "import numpy as np\n",
        "np.mean(sample) # you can apply numpy functions to a Series"
      ],
      "execution_count": null,
      "outputs": [
        {
          "output_type": "execute_result",
          "data": {
            "text/plain": [
              "-2.0"
            ]
          },
          "metadata": {
            "tags": []
          },
          "execution_count": 8
        }
      ]
    },
    {
      "cell_type": "code",
      "metadata": {
        "colab": {
          "base_uri": "https://localhost:8080/"
        },
        "id": "iqHjB4nApG8o",
        "outputId": "f6d63f7f-e314-4fe1-d214-8ba4b6a2d972"
      },
      "source": [
        "print ('b' in sample) # checks whether the index is present in Series or not\n",
        "print ('z' in sample)"
      ],
      "execution_count": null,
      "outputs": [
        {
          "output_type": "stream",
          "text": [
            "True\n",
            "False\n"
          ],
          "name": "stdout"
        }
      ]
    },
    {
      "cell_type": "code",
      "metadata": {
        "colab": {
          "base_uri": "https://localhost:8080/"
        },
        "id": "_LPMj3ippG8o",
        "outputId": "634520b3-bf15-42db-96d6-e98a424e7709"
      },
      "source": [
        "player_salary ={'Rooney': 50000, 'Messi': 75000, 'Ronaldo': 85000, 'Fabregas':40000, 'Van persie': 67000} \n",
        "new_player = Series(player_salary)# converting a dictionary to a series\n",
        "print (new_player) # the series has keys of a dictionary"
      ],
      "execution_count": null,
      "outputs": [
        {
          "output_type": "stream",
          "text": [
            "Rooney        50000\n",
            "Messi         75000\n",
            "Ronaldo       85000\n",
            "Fabregas      40000\n",
            "Van persie    67000\n",
            "dtype: int64\n"
          ],
          "name": "stdout"
        }
      ]
    },
    {
      "cell_type": "code",
      "metadata": {
        "colab": {
          "base_uri": "https://localhost:8080/"
        },
        "id": "il17j7SipG8o",
        "outputId": "194833c6-4552-4df6-8add-9be7d6f06f39"
      },
      "source": [
        "players =['Klose', 'Messi', 'Ronaldo', 'Van persie', 'Ballack'] \n",
        "player_1 =Series(player_salary, index= players)\n",
        "print (player_1) # I have changed the index of the Series. Since, no value was not found for Klose and Ballack, it appears as NAN"
      ],
      "execution_count": null,
      "outputs": [
        {
          "output_type": "stream",
          "text": [
            "Klose             NaN\n",
            "Messi         75000.0\n",
            "Ronaldo       85000.0\n",
            "Van persie    67000.0\n",
            "Ballack           NaN\n",
            "dtype: float64\n"
          ],
          "name": "stdout"
        }
      ]
    },
    {
      "cell_type": "code",
      "metadata": {
        "colab": {
          "base_uri": "https://localhost:8080/"
        },
        "id": "8nbGezo_pG8o",
        "outputId": "322f2d68-4223-4dff-c33a-03d952308fdc"
      },
      "source": [
        "pd.isnull(player_1)#checks for Null values in player_1, pd denotes a pandas dataframe"
      ],
      "execution_count": null,
      "outputs": [
        {
          "output_type": "execute_result",
          "data": {
            "text/plain": [
              "Klose          True\n",
              "Messi         False\n",
              "Ronaldo       False\n",
              "Van persie    False\n",
              "Ballack        True\n",
              "dtype: bool"
            ]
          },
          "metadata": {
            "tags": []
          },
          "execution_count": 12
        }
      ]
    },
    {
      "cell_type": "code",
      "metadata": {
        "colab": {
          "base_uri": "https://localhost:8080/"
        },
        "id": "zv_Om_74pG8p",
        "outputId": "f3a2ef02-af0d-4726-89b1-5460b2064d35"
      },
      "source": [
        "pd.notnull(player_1)# Checks for null values that are not Null"
      ],
      "execution_count": null,
      "outputs": [
        {
          "output_type": "execute_result",
          "data": {
            "text/plain": [
              "Klose         False\n",
              "Messi          True\n",
              "Ronaldo        True\n",
              "Van persie     True\n",
              "Ballack       False\n",
              "dtype: bool"
            ]
          },
          "metadata": {
            "tags": []
          },
          "execution_count": 13
        }
      ]
    },
    {
      "cell_type": "code",
      "metadata": {
        "colab": {
          "base_uri": "https://localhost:8080/"
        },
        "id": "LOLPQyDupG8p",
        "outputId": "14bafc9f-b461-4a0b-bf88-72d367dfcbfd"
      },
      "source": [
        "player_1.name ='Bundesliga players' # name for the Series\n",
        "player_1.index.name='Player names' #name of the index\n",
        "player_1"
      ],
      "execution_count": null,
      "outputs": [
        {
          "output_type": "execute_result",
          "data": {
            "text/plain": [
              "Player names\n",
              "Klose             NaN\n",
              "Messi         75000.0\n",
              "Ronaldo       85000.0\n",
              "Van persie    67000.0\n",
              "Ballack           NaN\n",
              "Name: Bundesliga players, dtype: float64"
            ]
          },
          "metadata": {
            "tags": []
          },
          "execution_count": 14
        }
      ]
    },
    {
      "cell_type": "code",
      "metadata": {
        "colab": {
          "base_uri": "https://localhost:8080/"
        },
        "id": "4SafmBwBpG8p",
        "outputId": "87e29eab-c748-4dd3-c301-591f8f4584a0"
      },
      "source": [
        "player_1.index =['Neymar', 'Hulk', 'Pirlo', 'Buffon', 'Anderson'] # is used to alter the index of Series\n",
        "player_1 "
      ],
      "execution_count": null,
      "outputs": [
        {
          "output_type": "execute_result",
          "data": {
            "text/plain": [
              "Neymar          NaN\n",
              "Hulk        75000.0\n",
              "Pirlo       85000.0\n",
              "Buffon      67000.0\n",
              "Anderson        NaN\n",
              "Name: Bundesliga players, dtype: float64"
            ]
          },
          "metadata": {
            "tags": []
          },
          "execution_count": 15
        }
      ]
    },
    {
      "cell_type": "code",
      "metadata": {
        "colab": {
          "base_uri": "https://localhost:8080/",
          "height": 195
        },
        "id": "_aumx-hcq4_R",
        "outputId": "0d0690a2-2de7-48bc-f284-c91487507200"
      },
      "source": [
        "states ={'State' :['Gujarat', 'Haryana', ' Delhi', 'Karnataka', 'Kerala'],\r\n",
        "                  'Population': [36, 44, 67,89,34],\r\n",
        "                  'Language' :['Gujarati', 'Hindi', 'Hindi', 'Kannada', 'Malayalam']}\r\n",
        "india = DataFrame(states) # creating a data frame\r\n",
        "india"
      ],
      "execution_count": 3,
      "outputs": [
        {
          "output_type": "execute_result",
          "data": {
            "text/html": [
              "<div>\n",
              "<style scoped>\n",
              "    .dataframe tbody tr th:only-of-type {\n",
              "        vertical-align: middle;\n",
              "    }\n",
              "\n",
              "    .dataframe tbody tr th {\n",
              "        vertical-align: top;\n",
              "    }\n",
              "\n",
              "    .dataframe thead th {\n",
              "        text-align: right;\n",
              "    }\n",
              "</style>\n",
              "<table border=\"1\" class=\"dataframe\">\n",
              "  <thead>\n",
              "    <tr style=\"text-align: right;\">\n",
              "      <th></th>\n",
              "      <th>State</th>\n",
              "      <th>Population</th>\n",
              "      <th>Language</th>\n",
              "    </tr>\n",
              "  </thead>\n",
              "  <tbody>\n",
              "    <tr>\n",
              "      <th>0</th>\n",
              "      <td>Gujarat</td>\n",
              "      <td>36</td>\n",
              "      <td>Gujarati</td>\n",
              "    </tr>\n",
              "    <tr>\n",
              "      <th>1</th>\n",
              "      <td>Haryana</td>\n",
              "      <td>44</td>\n",
              "      <td>Hindi</td>\n",
              "    </tr>\n",
              "    <tr>\n",
              "      <th>2</th>\n",
              "      <td>Delhi</td>\n",
              "      <td>67</td>\n",
              "      <td>Hindi</td>\n",
              "    </tr>\n",
              "    <tr>\n",
              "      <th>3</th>\n",
              "      <td>Karnataka</td>\n",
              "      <td>89</td>\n",
              "      <td>Kannada</td>\n",
              "    </tr>\n",
              "    <tr>\n",
              "      <th>4</th>\n",
              "      <td>Kerala</td>\n",
              "      <td>34</td>\n",
              "      <td>Malayalam</td>\n",
              "    </tr>\n",
              "  </tbody>\n",
              "</table>\n",
              "</div>"
            ],
            "text/plain": [
              "       State  Population   Language\n",
              "0    Gujarat          36   Gujarati\n",
              "1    Haryana          44      Hindi\n",
              "2      Delhi          67      Hindi\n",
              "3  Karnataka          89    Kannada\n",
              "4     Kerala          34  Malayalam"
            ]
          },
          "metadata": {
            "tags": []
          },
          "execution_count": 3
        }
      ]
    },
    {
      "cell_type": "code",
      "metadata": {
        "colab": {
          "base_uri": "https://localhost:8080/",
          "height": 195
        },
        "id": "M6qnDRwJrRou",
        "outputId": "34eda5a6-50ab-450d-8024-ff45df464941"
      },
      "source": [
        "DataFrame(states, columns=['State', 'Language', 'Population']) # change the sequence of column index"
      ],
      "execution_count": 4,
      "outputs": [
        {
          "output_type": "execute_result",
          "data": {
            "text/html": [
              "<div>\n",
              "<style scoped>\n",
              "    .dataframe tbody tr th:only-of-type {\n",
              "        vertical-align: middle;\n",
              "    }\n",
              "\n",
              "    .dataframe tbody tr th {\n",
              "        vertical-align: top;\n",
              "    }\n",
              "\n",
              "    .dataframe thead th {\n",
              "        text-align: right;\n",
              "    }\n",
              "</style>\n",
              "<table border=\"1\" class=\"dataframe\">\n",
              "  <thead>\n",
              "    <tr style=\"text-align: right;\">\n",
              "      <th></th>\n",
              "      <th>State</th>\n",
              "      <th>Language</th>\n",
              "      <th>Population</th>\n",
              "    </tr>\n",
              "  </thead>\n",
              "  <tbody>\n",
              "    <tr>\n",
              "      <th>0</th>\n",
              "      <td>Gujarat</td>\n",
              "      <td>Gujarati</td>\n",
              "      <td>36</td>\n",
              "    </tr>\n",
              "    <tr>\n",
              "      <th>1</th>\n",
              "      <td>Haryana</td>\n",
              "      <td>Hindi</td>\n",
              "      <td>44</td>\n",
              "    </tr>\n",
              "    <tr>\n",
              "      <th>2</th>\n",
              "      <td>Delhi</td>\n",
              "      <td>Hindi</td>\n",
              "      <td>67</td>\n",
              "    </tr>\n",
              "    <tr>\n",
              "      <th>3</th>\n",
              "      <td>Karnataka</td>\n",
              "      <td>Kannada</td>\n",
              "      <td>89</td>\n",
              "    </tr>\n",
              "    <tr>\n",
              "      <th>4</th>\n",
              "      <td>Kerala</td>\n",
              "      <td>Malayalam</td>\n",
              "      <td>34</td>\n",
              "    </tr>\n",
              "  </tbody>\n",
              "</table>\n",
              "</div>"
            ],
            "text/plain": [
              "       State   Language  Population\n",
              "0    Gujarat   Gujarati          36\n",
              "1    Haryana      Hindi          44\n",
              "2      Delhi      Hindi          67\n",
              "3  Karnataka    Kannada          89\n",
              "4     Kerala  Malayalam          34"
            ]
          },
          "metadata": {
            "tags": []
          },
          "execution_count": 4
        }
      ]
    },
    {
      "cell_type": "code",
      "metadata": {
        "id": "uHSXL3F9rXf1"
      },
      "source": [
        "new_farme = DataFrame(states, columns=['State', 'Language', 'Population', 'Per Capita Income'], index =['a','b','c','d','e'])\r\n",
        "#if you pass a column that isnt in states, it will appear with Na values"
      ],
      "execution_count": 6,
      "outputs": []
    },
    {
      "cell_type": "code",
      "metadata": {
        "colab": {
          "base_uri": "https://localhost:8080/"
        },
        "id": "p1WXi4-nrZB1",
        "outputId": "4c40bfe1-80fb-46d4-8b1b-f06e61854bad"
      },
      "source": [
        "print (new_farme.columns)\r\n",
        "print (new_farme['State']) # retrieveing data like dictionary"
      ],
      "execution_count": 8,
      "outputs": [
        {
          "output_type": "stream",
          "text": [
            "Index(['State', 'Language', 'Population', 'Per Capita Income'], dtype='object')\n",
            "a      Gujarat\n",
            "b      Haryana\n",
            "c        Delhi\n",
            "d    Karnataka\n",
            "e       Kerala\n",
            "Name: State, dtype: object\n"
          ],
          "name": "stdout"
        }
      ]
    },
    {
      "cell_type": "code",
      "metadata": {
        "colab": {
          "base_uri": "https://localhost:8080/"
        },
        "id": "Kfg1mUymrcnn",
        "outputId": "4893d245-5b82-4744-8deb-03195c045e67"
      },
      "source": [
        "new_farme.Population # like Series"
      ],
      "execution_count": 9,
      "outputs": [
        {
          "output_type": "execute_result",
          "data": {
            "text/plain": [
              "a    36\n",
              "b    44\n",
              "c    67\n",
              "d    89\n",
              "e    34\n",
              "Name: Population, dtype: int64"
            ]
          },
          "metadata": {
            "tags": []
          },
          "execution_count": 9
        }
      ]
    },
    {
      "cell_type": "code",
      "metadata": {
        "colab": {
          "base_uri": "https://localhost:8080/"
        },
        "id": "b3KxQPtjrkiv",
        "outputId": "9b0ca6dc-136b-4b4b-e01c-7b3eb4d8b9ed"
      },
      "source": [
        "new_farme.iloc[3] # rows can be retrieved using .ic function\r\n",
        "# here I have retrieved 3rd row"
      ],
      "execution_count": 12,
      "outputs": [
        {
          "output_type": "execute_result",
          "data": {
            "text/plain": [
              "State                Karnataka\n",
              "Language               Kannada\n",
              "Population                  89\n",
              "Per Capita Income          NaN\n",
              "Name: d, dtype: object"
            ]
          },
          "metadata": {
            "tags": []
          },
          "execution_count": 12
        }
      ]
    },
    {
      "cell_type": "code",
      "metadata": {
        "colab": {
          "base_uri": "https://localhost:8080/",
          "height": 195
        },
        "id": "u9n1QapjrmWw",
        "outputId": "6c69d3b8-d3ac-4cbc-cdfe-a0c85af741b7"
      },
      "source": [
        "new_farme['Per Capita Income'] = 99 # the empty per capita income column can be assigned a value\r\n",
        "new_farme"
      ],
      "execution_count": 13,
      "outputs": [
        {
          "output_type": "execute_result",
          "data": {
            "text/html": [
              "<div>\n",
              "<style scoped>\n",
              "    .dataframe tbody tr th:only-of-type {\n",
              "        vertical-align: middle;\n",
              "    }\n",
              "\n",
              "    .dataframe tbody tr th {\n",
              "        vertical-align: top;\n",
              "    }\n",
              "\n",
              "    .dataframe thead th {\n",
              "        text-align: right;\n",
              "    }\n",
              "</style>\n",
              "<table border=\"1\" class=\"dataframe\">\n",
              "  <thead>\n",
              "    <tr style=\"text-align: right;\">\n",
              "      <th></th>\n",
              "      <th>State</th>\n",
              "      <th>Language</th>\n",
              "      <th>Population</th>\n",
              "      <th>Per Capita Income</th>\n",
              "    </tr>\n",
              "  </thead>\n",
              "  <tbody>\n",
              "    <tr>\n",
              "      <th>a</th>\n",
              "      <td>Gujarat</td>\n",
              "      <td>Gujarati</td>\n",
              "      <td>36</td>\n",
              "      <td>99</td>\n",
              "    </tr>\n",
              "    <tr>\n",
              "      <th>b</th>\n",
              "      <td>Haryana</td>\n",
              "      <td>Hindi</td>\n",
              "      <td>44</td>\n",
              "      <td>99</td>\n",
              "    </tr>\n",
              "    <tr>\n",
              "      <th>c</th>\n",
              "      <td>Delhi</td>\n",
              "      <td>Hindi</td>\n",
              "      <td>67</td>\n",
              "      <td>99</td>\n",
              "    </tr>\n",
              "    <tr>\n",
              "      <th>d</th>\n",
              "      <td>Karnataka</td>\n",
              "      <td>Kannada</td>\n",
              "      <td>89</td>\n",
              "      <td>99</td>\n",
              "    </tr>\n",
              "    <tr>\n",
              "      <th>e</th>\n",
              "      <td>Kerala</td>\n",
              "      <td>Malayalam</td>\n",
              "      <td>34</td>\n",
              "      <td>99</td>\n",
              "    </tr>\n",
              "  </tbody>\n",
              "</table>\n",
              "</div>"
            ],
            "text/plain": [
              "       State   Language  Population  Per Capita Income\n",
              "a    Gujarat   Gujarati          36                 99\n",
              "b    Haryana      Hindi          44                 99\n",
              "c      Delhi      Hindi          67                 99\n",
              "d  Karnataka    Kannada          89                 99\n",
              "e     Kerala  Malayalam          34                 99"
            ]
          },
          "metadata": {
            "tags": []
          },
          "execution_count": 13
        }
      ]
    },
    {
      "cell_type": "code",
      "metadata": {
        "colab": {
          "base_uri": "https://localhost:8080/",
          "height": 195
        },
        "id": "8D9OWxLGrxjH",
        "outputId": "3fb1cbd2-0045-4ce6-8d84-e6e663a0e7da"
      },
      "source": [
        "new_farme['Per Capita Income'] = np.arange(5) # assigning a value to the last column\r\n",
        "new_farme"
      ],
      "execution_count": 16,
      "outputs": [
        {
          "output_type": "execute_result",
          "data": {
            "text/html": [
              "<div>\n",
              "<style scoped>\n",
              "    .dataframe tbody tr th:only-of-type {\n",
              "        vertical-align: middle;\n",
              "    }\n",
              "\n",
              "    .dataframe tbody tr th {\n",
              "        vertical-align: top;\n",
              "    }\n",
              "\n",
              "    .dataframe thead th {\n",
              "        text-align: right;\n",
              "    }\n",
              "</style>\n",
              "<table border=\"1\" class=\"dataframe\">\n",
              "  <thead>\n",
              "    <tr style=\"text-align: right;\">\n",
              "      <th></th>\n",
              "      <th>State</th>\n",
              "      <th>Language</th>\n",
              "      <th>Population</th>\n",
              "      <th>Per Capita Income</th>\n",
              "    </tr>\n",
              "  </thead>\n",
              "  <tbody>\n",
              "    <tr>\n",
              "      <th>a</th>\n",
              "      <td>Gujarat</td>\n",
              "      <td>Gujarati</td>\n",
              "      <td>36</td>\n",
              "      <td>0</td>\n",
              "    </tr>\n",
              "    <tr>\n",
              "      <th>b</th>\n",
              "      <td>Haryana</td>\n",
              "      <td>Hindi</td>\n",
              "      <td>44</td>\n",
              "      <td>1</td>\n",
              "    </tr>\n",
              "    <tr>\n",
              "      <th>c</th>\n",
              "      <td>Delhi</td>\n",
              "      <td>Hindi</td>\n",
              "      <td>67</td>\n",
              "      <td>2</td>\n",
              "    </tr>\n",
              "    <tr>\n",
              "      <th>d</th>\n",
              "      <td>Karnataka</td>\n",
              "      <td>Kannada</td>\n",
              "      <td>89</td>\n",
              "      <td>3</td>\n",
              "    </tr>\n",
              "    <tr>\n",
              "      <th>e</th>\n",
              "      <td>Kerala</td>\n",
              "      <td>Malayalam</td>\n",
              "      <td>34</td>\n",
              "      <td>4</td>\n",
              "    </tr>\n",
              "  </tbody>\n",
              "</table>\n",
              "</div>"
            ],
            "text/plain": [
              "       State   Language  Population  Per Capita Income\n",
              "a    Gujarat   Gujarati          36                  0\n",
              "b    Haryana      Hindi          44                  1\n",
              "c      Delhi      Hindi          67                  2\n",
              "d  Karnataka    Kannada          89                  3\n",
              "e     Kerala  Malayalam          34                  4"
            ]
          },
          "metadata": {
            "tags": []
          },
          "execution_count": 16
        }
      ]
    },
    {
      "cell_type": "code",
      "metadata": {
        "colab": {
          "base_uri": "https://localhost:8080/",
          "height": 296
        },
        "id": "mTmmkGYSr0o3",
        "outputId": "7bd22862-616a-4ffd-b9d8-ca00cf88ea7f"
      },
      "source": [
        "new_farme['Development'] = new_farme.State == 'Gujarat'# assigning a new column\r\n",
        "print (new_farme)\r\n",
        "del new_farme['Development'] # will delete the column 'Development'\r\n",
        "new_farme"
      ],
      "execution_count": 18,
      "outputs": [
        {
          "output_type": "stream",
          "text": [
            "       State   Language  Population  Per Capita Income  Development\n",
            "a    Gujarat   Gujarati          36                  0         True\n",
            "b    Haryana      Hindi          44                  1        False\n",
            "c      Delhi      Hindi          67                  2        False\n",
            "d  Karnataka    Kannada          89                  3        False\n",
            "e     Kerala  Malayalam          34                  4        False\n"
          ],
          "name": "stdout"
        },
        {
          "output_type": "execute_result",
          "data": {
            "text/html": [
              "<div>\n",
              "<style scoped>\n",
              "    .dataframe tbody tr th:only-of-type {\n",
              "        vertical-align: middle;\n",
              "    }\n",
              "\n",
              "    .dataframe tbody tr th {\n",
              "        vertical-align: top;\n",
              "    }\n",
              "\n",
              "    .dataframe thead th {\n",
              "        text-align: right;\n",
              "    }\n",
              "</style>\n",
              "<table border=\"1\" class=\"dataframe\">\n",
              "  <thead>\n",
              "    <tr style=\"text-align: right;\">\n",
              "      <th></th>\n",
              "      <th>State</th>\n",
              "      <th>Language</th>\n",
              "      <th>Population</th>\n",
              "      <th>Per Capita Income</th>\n",
              "    </tr>\n",
              "  </thead>\n",
              "  <tbody>\n",
              "    <tr>\n",
              "      <th>a</th>\n",
              "      <td>Gujarat</td>\n",
              "      <td>Gujarati</td>\n",
              "      <td>36</td>\n",
              "      <td>0</td>\n",
              "    </tr>\n",
              "    <tr>\n",
              "      <th>b</th>\n",
              "      <td>Haryana</td>\n",
              "      <td>Hindi</td>\n",
              "      <td>44</td>\n",
              "      <td>1</td>\n",
              "    </tr>\n",
              "    <tr>\n",
              "      <th>c</th>\n",
              "      <td>Delhi</td>\n",
              "      <td>Hindi</td>\n",
              "      <td>67</td>\n",
              "      <td>2</td>\n",
              "    </tr>\n",
              "    <tr>\n",
              "      <th>d</th>\n",
              "      <td>Karnataka</td>\n",
              "      <td>Kannada</td>\n",
              "      <td>89</td>\n",
              "      <td>3</td>\n",
              "    </tr>\n",
              "    <tr>\n",
              "      <th>e</th>\n",
              "      <td>Kerala</td>\n",
              "      <td>Malayalam</td>\n",
              "      <td>34</td>\n",
              "      <td>4</td>\n",
              "    </tr>\n",
              "  </tbody>\n",
              "</table>\n",
              "</div>"
            ],
            "text/plain": [
              "       State   Language  Population  Per Capita Income\n",
              "a    Gujarat   Gujarati          36                  0\n",
              "b    Haryana      Hindi          44                  1\n",
              "c      Delhi      Hindi          67                  2\n",
              "d  Karnataka    Kannada          89                  3\n",
              "e     Kerala  Malayalam          34                  4"
            ]
          },
          "metadata": {
            "tags": []
          },
          "execution_count": 18
        }
      ]
    },
    {
      "cell_type": "code",
      "metadata": {
        "id": "owE-iDPVr8gc"
      },
      "source": [
        ""
      ],
      "execution_count": null,
      "outputs": []
    }
  ]
}