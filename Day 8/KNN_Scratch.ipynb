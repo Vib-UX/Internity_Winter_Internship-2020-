{
  "nbformat": 4,
  "nbformat_minor": 0,
  "metadata": {
    "colab": {
      "name": "KNN_Scratch.ipynb",
      "provenance": []
    },
    "kernelspec": {
      "name": "python3",
      "display_name": "Python 3"
    }
  },
  "cells": [
    {
      "cell_type": "code",
      "metadata": {
        "id": "D-d341HMwD6F"
      },
      "source": [
        "import numpy as np\r\n",
        "import matplotlib.pyplot as plt\r\n",
        "import pandas as pd\r\n",
        "from sklearn.datasets import make_blobs"
      ],
      "execution_count": 1,
      "outputs": []
    },
    {
      "cell_type": "markdown",
      "metadata": {
        "id": "E3LzfB55zDN2"
      },
      "source": [
        "#**make_blobs**\r\n",
        "*   random_State #to fix the data state\r\n",
        "*   n samples #data samples\r\n",
        "*   n features #number of input feature\r\n",
        "*   centers #number of groups of data\r\n",
        "\r\n"
      ]
    },
    {
      "cell_type": "code",
      "metadata": {
        "id": "QTawJB2VwLGY"
      },
      "source": [
        "# used to create dummy data set\r\n",
        "x,y=make_blobs(n_samples=300,n_features=2,centers=2,random_state=2)"
      ],
      "execution_count": 2,
      "outputs": []
    },
    {
      "cell_type": "code",
      "metadata": {
        "colab": {
          "base_uri": "https://localhost:8080/"
        },
        "id": "ji9V27mTzB9T",
        "outputId": "ae48f142-076b-4bb8-f1e5-f4d056c985ce"
      },
      "source": [
        "x.shape"
      ],
      "execution_count": 3,
      "outputs": [
        {
          "output_type": "execute_result",
          "data": {
            "text/plain": [
              "(300, 2)"
            ]
          },
          "metadata": {
            "tags": []
          },
          "execution_count": 3
        }
      ]
    },
    {
      "cell_type": "code",
      "metadata": {
        "colab": {
          "base_uri": "https://localhost:8080/"
        },
        "id": "QP3Stssjz_FE",
        "outputId": "78025a7f-7b12-4278-a94d-26c876d434b0"
      },
      "source": [
        "y.shape"
      ],
      "execution_count": 4,
      "outputs": [
        {
          "output_type": "execute_result",
          "data": {
            "text/plain": [
              "(300,)"
            ]
          },
          "metadata": {
            "tags": []
          },
          "execution_count": 4
        }
      ]
    },
    {
      "cell_type": "code",
      "metadata": {
        "colab": {
          "base_uri": "https://localhost:8080/"
        },
        "id": "r3Dfi99_0NvA",
        "outputId": "f306ef2f-6a34-434c-f895-5a189ebea26a"
      },
      "source": [
        "x"
      ],
      "execution_count": 11,
      "outputs": [
        {
          "output_type": "execute_result",
          "data": {
            "text/plain": [
              "array([[-1.28009220e+00, -8.93912279e+00],\n",
              "       [ 1.44583556e-01, -9.62012500e-01],\n",
              "       [ 1.42026702e+00, -8.86564399e-01],\n",
              "       [-1.62215224e-01, -9.75571745e+00],\n",
              "       [ 1.81313467e+00, -1.92467083e+00],\n",
              "       [ 1.04938910e-02,  7.93130580e-01],\n",
              "       [-3.71486953e+00, -9.36874886e+00],\n",
              "       [ 4.68357890e-01, -1.88336083e+00],\n",
              "       [-1.46335853e+00, -8.46162063e+00],\n",
              "       [-1.18580466e-01, -9.09539732e+00],\n",
              "       [-2.15820985e+00, -9.63790953e+00],\n",
              "       [ 1.82303860e+00, -9.57486196e-01],\n",
              "       [-9.10571585e-01, -2.49169253e+00],\n",
              "       [ 8.09872823e-01, -2.45335904e+00],\n",
              "       [ 1.55595444e+00, -1.87562291e+00],\n",
              "       [-7.78244750e-01, -1.03256891e+01],\n",
              "       [-3.13050593e+00, -9.15098730e+00],\n",
              "       [-7.41043637e-01, -1.00776351e+01],\n",
              "       [-2.51917058e-01, -1.02033551e+01],\n",
              "       [-1.58418840e+00, -6.89618050e+00],\n",
              "       [ 1.62861332e+00,  8.08677120e-01],\n",
              "       [ 1.51217448e+00, -1.78654706e+00],\n",
              "       [ 2.60842583e+00, -8.67945937e-01],\n",
              "       [ 1.51435899e+00, -2.00174653e+00],\n",
              "       [ 2.01196660e+00,  1.00882614e+00],\n",
              "       [ 3.27578920e+00, -1.78933100e+00],\n",
              "       [ 1.83086535e+00, -1.42523455e+00],\n",
              "       [ 6.67989265e-03,  2.49984191e-01],\n",
              "       [-1.74210731e+00, -9.13058687e+00],\n",
              "       [ 2.89526678e+00, -1.87393519e+00],\n",
              "       [-8.83581798e-01, -9.79609280e+00],\n",
              "       [-6.78586143e-01, -9.47781587e+00],\n",
              "       [-1.22285101e+00, -9.32238688e+00],\n",
              "       [ 1.67800953e+00, -3.00109120e+00],\n",
              "       [ 6.48625887e-01, -3.29563138e+00],\n",
              "       [ 1.18951245e+00, -2.16944852e+00],\n",
              "       [ 1.74350357e-01, -1.62619141e+00],\n",
              "       [-1.08852831e+00, -1.01436844e+01],\n",
              "       [-2.12135059e-02, -2.40881611e+00],\n",
              "       [-2.70131918e+00, -9.63497056e+00],\n",
              "       [-1.65577138e+00, -9.55594613e+00],\n",
              "       [-1.91775697e+00, -1.06690876e+01],\n",
              "       [-1.15899638e+00, -1.03283041e+01],\n",
              "       [-2.43680113e+00, -8.24744068e+00],\n",
              "       [ 1.29648399e+00, -2.12342699e+00],\n",
              "       [-1.91478126e+00, -8.97307912e+00],\n",
              "       [ 1.32031660e+00, -2.74891159e+00],\n",
              "       [ 2.28201896e+00, -1.15862669e+00],\n",
              "       [ 5.55230766e-01, -9.04078549e+00],\n",
              "       [-3.01806146e+00, -8.44065141e+00],\n",
              "       [-4.55398952e-01, -8.23326244e+00],\n",
              "       [-2.99416937e+00, -9.55811493e+00],\n",
              "       [-2.43110490e+00, -9.90799783e+00],\n",
              "       [ 1.13908963e+00, -1.69365820e+00],\n",
              "       [ 2.63516420e+00, -9.81854441e-01],\n",
              "       [-2.41442044e+00, -1.01888963e+01],\n",
              "       [-1.94295553e-01, -8.57929597e+00],\n",
              "       [ 1.77939563e+00, -1.09938345e+00],\n",
              "       [-1.95777753e+00, -1.09209144e+01],\n",
              "       [-2.37884090e+00, -7.89698831e+00],\n",
              "       [ 9.96403485e-02, -5.41649792e-01],\n",
              "       [ 2.37703059e+00, -1.14520290e+00],\n",
              "       [ 9.00051691e-01, -1.15792073e+00],\n",
              "       [ 3.80498000e-01, -2.68699416e+00],\n",
              "       [-1.19473752e+00, -8.81614109e+00],\n",
              "       [-2.34623970e-01, -8.11245934e+00],\n",
              "       [ 8.31839150e-02, -1.17097955e-01],\n",
              "       [-1.55628145e+00, -9.99835926e+00],\n",
              "       [-3.32042501e+00, -9.43521984e+00],\n",
              "       [ 5.78840960e-01, -1.22623874e+00],\n",
              "       [ 4.28756126e-01, -3.38135961e+00],\n",
              "       [-3.19320012e-01, -8.72310502e+00],\n",
              "       [-1.76008707e+00, -1.05011245e+01],\n",
              "       [-5.36141798e-01, -1.60153988e+00],\n",
              "       [-2.41323523e+00, -9.04838281e+00],\n",
              "       [-2.34090099e+00, -8.88980884e+00],\n",
              "       [-1.43982609e+00, -8.93252880e+00],\n",
              "       [-1.50834952e+00, -1.15510876e+01],\n",
              "       [-2.50153112e+00, -7.67699872e+00],\n",
              "       [ 8.29286725e-01, -9.21929986e-01],\n",
              "       [ 2.13810493e+00, -1.44566983e+00],\n",
              "       [-1.56362147e+00, -8.94305110e+00],\n",
              "       [-7.28647913e-01, -7.18926735e+00],\n",
              "       [-9.49120112e-02, -2.05140770e+00],\n",
              "       [-7.77220540e-01, -1.07267635e+01],\n",
              "       [ 1.17331624e+00, -1.36048319e+00],\n",
              "       [ 2.09125960e+00, -2.31143020e+00],\n",
              "       [-1.28230840e+00, -9.62076725e+00],\n",
              "       [ 2.54154025e+00, -1.60938019e+00],\n",
              "       [-4.50643527e-01, -8.85085340e+00],\n",
              "       [ 4.61710231e-01, -9.92897624e+00],\n",
              "       [-6.15880544e-01, -8.74659070e+00],\n",
              "       [ 6.55277408e-01, -9.50339415e-01],\n",
              "       [-2.18234803e+00, -1.00724476e+01],\n",
              "       [ 1.19993945e+00, -1.36442850e+00],\n",
              "       [ 2.05500017e-01, -8.68798475e-01],\n",
              "       [-9.23380961e-01, -3.52089344e+00],\n",
              "       [-1.99935580e+00, -1.00648900e+01],\n",
              "       [ 3.98527059e-01, -1.60836399e+00],\n",
              "       [ 1.80845560e+00, -3.36847451e+00],\n",
              "       [-4.09261193e-01, -8.88866857e+00],\n",
              "       [-3.14819261e+00, -7.75029070e+00],\n",
              "       [-8.99629987e-01, -9.69861063e+00],\n",
              "       [-1.29923245e+00, -8.30647414e+00],\n",
              "       [ 1.51208568e+00, -9.29104142e-01],\n",
              "       [ 2.14034950e+00, -1.19799516e+00],\n",
              "       [ 7.81976866e-01, -2.95128689e+00],\n",
              "       [-2.47072891e-01, -9.81047780e+00],\n",
              "       [ 9.19246583e-01, -2.28004851e+00],\n",
              "       [-7.85351084e-01, -1.79434364e+00],\n",
              "       [ 1.87576053e-01, -9.81715270e+00],\n",
              "       [ 1.48728543e+00,  2.52725498e-01],\n",
              "       [-3.76389115e-01,  1.37678510e+00],\n",
              "       [-4.10503760e-01, -1.05685659e+01],\n",
              "       [ 3.31964046e+00, -1.92760528e+00],\n",
              "       [-7.66850513e-01, -9.81631949e+00],\n",
              "       [-1.07589398e+00, -8.07477912e+00],\n",
              "       [-1.85148357e+00, -9.18904330e+00],\n",
              "       [-2.87645620e-01, -9.83705870e-01],\n",
              "       [-1.39452325e+00, -9.97964956e+00],\n",
              "       [-2.93230225e+00, -1.01571372e+01],\n",
              "       [ 1.29246023e+00, -6.14284970e-01],\n",
              "       [ 2.10389484e+00, -1.66689096e+00],\n",
              "       [-3.07353754e+00, -1.03232227e+01],\n",
              "       [ 2.90585024e+00, -1.33881535e+00],\n",
              "       [-1.59361015e+00, -8.71046363e+00],\n",
              "       [ 1.77400391e+00, -2.34939179e+00],\n",
              "       [-1.21963951e+00, -1.08200642e+01],\n",
              "       [-1.52632974e+00,  9.76102798e-02],\n",
              "       [-1.45317312e+00, -9.87682176e+00],\n",
              "       [ 2.44441946e+00, -2.35848003e+00],\n",
              "       [-8.96799996e-02, -2.25017767e+00],\n",
              "       [ 1.57945366e+00, -1.31393944e+00],\n",
              "       [-8.89805507e-01, -8.50596595e+00],\n",
              "       [ 9.27839877e-01, -5.27436244e-01],\n",
              "       [-2.02797291e+00, -9.47245011e+00],\n",
              "       [-3.65450464e+00, -9.42295543e+00],\n",
              "       [ 1.40927131e+00, -1.35139941e+00],\n",
              "       [ 8.43658205e-01, -1.53599275e+00],\n",
              "       [-1.64458105e+00, -1.03574548e+01],\n",
              "       [ 2.11773242e+00, -2.79139195e+00],\n",
              "       [ 1.28448357e+00, -1.49088310e+00],\n",
              "       [ 1.10123996e-01,  2.51834679e-01],\n",
              "       [-1.06570459e-01, -1.18250786e+01],\n",
              "       [-9.32985953e-02, -1.52446964e+00],\n",
              "       [-7.27438262e-01, -1.03219184e+01],\n",
              "       [-1.28770310e+00, -1.04153060e+01],\n",
              "       [ 2.41821659e+00, -1.74041004e+00],\n",
              "       [-1.83305140e+00, -9.18194855e+00],\n",
              "       [-1.59237263e+00, -7.33679727e+00],\n",
              "       [-1.66161844e+00, -9.41498635e+00],\n",
              "       [-6.68761178e-01, -9.43350477e+00],\n",
              "       [-5.28137108e-01, -1.04752363e+01],\n",
              "       [ 1.55591864e+00, -1.45806720e+00],\n",
              "       [ 8.89897389e-01, -4.45201581e-01],\n",
              "       [ 1.92513692e+00,  1.74779985e-01],\n",
              "       [-2.37939927e+00, -1.01630060e+01],\n",
              "       [ 1.30718471e-01, -3.03642505e+00],\n",
              "       [-1.31967220e+00, -9.15547193e+00],\n",
              "       [ 6.62573714e-01, -1.00634395e+00],\n",
              "       [ 1.10320057e+00, -3.20707537e+00],\n",
              "       [-1.70958676e-01, -1.12463931e+01],\n",
              "       [ 4.06861602e-01,  4.40964197e-01],\n",
              "       [-2.54222874e-01, -1.37109840e+00],\n",
              "       [ 1.30852564e+00,  5.72656058e-01],\n",
              "       [-6.69957871e-01, -9.05797846e+00],\n",
              "       [ 1.70677401e+00,  1.23618273e+00],\n",
              "       [-6.17249701e-01, -7.93612384e-01],\n",
              "       [-1.02353151e+00, -1.04702544e+01],\n",
              "       [ 5.42505598e-02, -6.64776340e-01],\n",
              "       [ 9.79909806e-01, -2.06187540e+00],\n",
              "       [ 7.29861481e-01, -1.97091264e+00],\n",
              "       [-1.32654223e-01, -8.05055482e-01],\n",
              "       [-9.44193562e-01, -7.57709945e+00],\n",
              "       [ 1.14444673e+00, -5.28482667e-01],\n",
              "       [ 2.14878015e+00, -1.54808261e+00],\n",
              "       [-1.97827295e+00, -9.24152417e+00],\n",
              "       [-1.54915892e+00, -7.25010857e+00],\n",
              "       [ 1.62504848e+00, -8.75959417e-01],\n",
              "       [-2.34146770e+00, -9.58999219e+00],\n",
              "       [ 1.98377113e-01, -1.69883841e+00],\n",
              "       [-7.55805527e-01, -8.74619579e+00],\n",
              "       [ 1.70084242e+00, -1.17949827e+00],\n",
              "       [-2.34716908e+00, -1.01344065e+01],\n",
              "       [ 4.49366176e-01, -1.10925041e+00],\n",
              "       [-2.30361694e+00, -9.92965019e+00],\n",
              "       [ 1.24955795e+00, -5.25927065e-01],\n",
              "       [ 2.80533508e+00, -3.34981789e+00],\n",
              "       [ 1.59306999e+00, -7.44167682e-01],\n",
              "       [-1.89847744e+00, -9.10268090e+00],\n",
              "       [ 1.57015928e+00, -5.75746453e-01],\n",
              "       [-2.47510185e+00, -9.96940591e+00],\n",
              "       [ 3.92729152e-01,  3.21321089e-01],\n",
              "       [ 9.75588878e-01, -1.05751122e+00],\n",
              "       [-2.69891251e+00, -9.73324948e+00],\n",
              "       [-4.07595897e-01, -9.86026621e-01],\n",
              "       [-1.24753649e+00, -1.11220356e+01],\n",
              "       [ 8.04205506e-01, -1.74288075e+00],\n",
              "       [-1.93335222e+00, -8.63901908e+00],\n",
              "       [ 1.10540736e-01, -4.08807953e-01],\n",
              "       [-3.36096885e-01, -2.03914856e+00],\n",
              "       [-9.20968625e-01, -8.85925495e+00],\n",
              "       [ 6.72314850e-01, -1.04403860e+00],\n",
              "       [-7.82161809e-01, -9.35497119e+00],\n",
              "       [ 5.54642112e-02, -9.17884603e+00],\n",
              "       [-1.45509880e+00, -1.09186188e+01],\n",
              "       [ 1.70531079e+00, -3.09426819e+00],\n",
              "       [ 2.16849832e-01, -1.10125865e+01],\n",
              "       [ 2.82859067e+00, -8.66035449e+00],\n",
              "       [-2.82677657e+00, -1.15641273e+01],\n",
              "       [-9.15048441e-01, -8.70739333e+00],\n",
              "       [ 8.71334668e-02, -8.26358973e+00],\n",
              "       [-9.09657420e-01, -8.12184150e+00],\n",
              "       [ 6.21730433e-01,  1.86741382e+00],\n",
              "       [ 1.24010707e+00, -2.76232795e+00],\n",
              "       [-1.09969215e+00, -8.92831109e+00],\n",
              "       [ 1.94900829e-01, -1.28789435e+00],\n",
              "       [-8.46605627e-01, -8.20309613e+00],\n",
              "       [-1.60368203e+00, -9.05765066e+00],\n",
              "       [ 1.13220527e+00, -1.17410198e+00],\n",
              "       [ 1.77626964e+00, -1.70061519e+00],\n",
              "       [ 2.61434254e+00, -5.80868874e-01],\n",
              "       [ 1.27268331e+00, -3.11578342e+00],\n",
              "       [ 5.12490895e-01, -9.91048868e+00],\n",
              "       [ 1.78230921e+00, -2.91522595e+00],\n",
              "       [-1.42824915e+00, -7.98003845e+00],\n",
              "       [ 2.07007921e+00, -8.56141916e-01],\n",
              "       [-1.73432981e+00, -8.96710465e+00],\n",
              "       [ 3.48043413e+00, -1.74491320e+00],\n",
              "       [ 8.26080783e-01, -1.87016308e+00],\n",
              "       [ 2.51658359e-01, -1.14673211e+01],\n",
              "       [-2.33805418e+00, -1.03904830e+01],\n",
              "       [-2.53552918e+00, -8.54331169e+00],\n",
              "       [-6.16661168e-02, -2.47630935e+00],\n",
              "       [-1.97869191e+00, -1.04103673e+01],\n",
              "       [-5.54748698e-01, -9.84094982e+00],\n",
              "       [-2.30151669e+00, -9.04907966e+00],\n",
              "       [-3.30346590e+00, -9.21350279e+00],\n",
              "       [-1.68399423e+00, -1.08659940e+01],\n",
              "       [ 9.31614473e-01, -2.24644930e+00],\n",
              "       [-1.23856256e+00, -1.05994008e+01],\n",
              "       [-1.36234733e+00, -9.78614195e+00],\n",
              "       [-2.73346631e+00, -9.81949314e+00],\n",
              "       [-1.15527831e+00, -8.72497322e+00],\n",
              "       [ 8.10751934e-01, -3.12181849e+00],\n",
              "       [-5.84982352e-01, -1.15149419e+01],\n",
              "       [-8.98235723e-01, -8.91519992e+00],\n",
              "       [ 1.38820278e+00, -2.49736562e+00],\n",
              "       [-1.60515159e+00, -1.00417099e+01],\n",
              "       [ 1.99964344e+00, -8.51061404e+00],\n",
              "       [-1.89219671e+00, -9.83273782e+00],\n",
              "       [ 7.71928615e-01, -2.46670777e+00],\n",
              "       [-2.59766923e+00, -1.15070690e+01],\n",
              "       [-1.87385754e+00, -8.33197480e+00],\n",
              "       [ 3.39708114e-01,  1.15281836e-01],\n",
              "       [ 3.90108765e-01, -1.25159452e+00],\n",
              "       [-2.76256743e+00, -8.63516347e+00],\n",
              "       [-1.61892392e+00, -9.71765939e+00],\n",
              "       [ 2.89018180e+00, -1.92263130e+00],\n",
              "       [-1.06398595e+00, -1.13400877e+01],\n",
              "       [ 1.05937597e+00, -7.57993797e-01],\n",
              "       [ 1.27033628e+00, -1.09546486e+01],\n",
              "       [ 3.35481195e-01, -2.54500055e+00],\n",
              "       [ 7.84545928e-01, -1.15593416e+00],\n",
              "       [-1.03866233e+00, -8.98404971e+00],\n",
              "       [ 1.77272961e+00, -2.66954197e-01],\n",
              "       [ 2.18277769e+00, -1.27235060e+00],\n",
              "       [-2.10923725e+00, -9.39376515e+00],\n",
              "       [ 1.58734350e-01, -2.29051183e+00],\n",
              "       [ 1.59692102e+00, -1.37316560e+00],\n",
              "       [-1.47355881e-01, -9.11117052e+00],\n",
              "       [ 1.01451041e+00, -3.82634633e-01],\n",
              "       [ 1.74084850e+00, -1.52644915e+00],\n",
              "       [-1.14189169e-01, -1.46983829e+00],\n",
              "       [-4.80921962e-01, -8.21886170e+00],\n",
              "       [ 1.58812167e-01, -1.95127059e+00],\n",
              "       [ 6.46309026e-01, -8.82108631e-01],\n",
              "       [ 1.11104611e+00, -1.83023746e+00],\n",
              "       [ 8.38839595e-01, -3.04284095e+00],\n",
              "       [ 1.48941317e-01, -1.85337226e+00],\n",
              "       [-3.84508374e-01, -1.07503472e-01],\n",
              "       [-1.69941844e+00, -9.61380426e+00],\n",
              "       [-2.13009746e+00, -1.03338172e+01],\n",
              "       [-3.17020971e-01, -9.30118176e-01],\n",
              "       [ 7.78199426e-01, -2.36858071e+00],\n",
              "       [-5.83903978e-01, -8.78405909e+00],\n",
              "       [-3.93955141e+00, -9.57292799e+00],\n",
              "       [ 6.53055009e-01, -1.05522717e+01],\n",
              "       [ 1.81381389e+00, -1.78270915e+00],\n",
              "       [-9.03556046e-01, -9.61695513e+00],\n",
              "       [ 2.24169986e+00, -2.53927870e+00],\n",
              "       [ 1.37645402e+00, -1.71054630e+00],\n",
              "       [ 2.82419621e+00, -3.53376155e-01],\n",
              "       [-1.74844822e+00, -1.07361957e+01],\n",
              "       [-3.78556009e+00, -7.65548091e+00],\n",
              "       [-1.59579517e+00, -1.08314775e+01],\n",
              "       [ 3.49504657e-01, -3.30233668e+00],\n",
              "       [-2.79736071e-01, -9.86256788e+00],\n",
              "       [ 1.17977108e+00, -1.45198137e+00],\n",
              "       [-1.46957122e+00, -9.55869403e+00]])"
            ]
          },
          "metadata": {
            "tags": []
          },
          "execution_count": 11
        }
      ]
    },
    {
      "cell_type": "code",
      "metadata": {
        "colab": {
          "base_uri": "https://localhost:8080/"
        },
        "id": "AUYNaEI40Ryw",
        "outputId": "921e21f0-64bf-4ff7-90eb-710b411242b8"
      },
      "source": [
        "y"
      ],
      "execution_count": 12,
      "outputs": [
        {
          "output_type": "execute_result",
          "data": {
            "text/plain": [
              "array([0, 1, 1, 0, 1, 1, 0, 1, 0, 0, 0, 1, 1, 1, 1, 0, 0, 0, 0, 0, 1, 1,\n",
              "       1, 1, 1, 1, 1, 1, 0, 1, 0, 0, 0, 1, 1, 1, 1, 0, 1, 0, 0, 0, 0, 0,\n",
              "       1, 0, 1, 1, 0, 0, 0, 0, 0, 1, 1, 0, 0, 1, 0, 0, 1, 1, 1, 1, 0, 0,\n",
              "       1, 0, 0, 1, 1, 0, 0, 1, 0, 0, 0, 0, 0, 1, 1, 0, 0, 1, 0, 1, 1, 0,\n",
              "       1, 0, 0, 0, 1, 0, 1, 1, 1, 0, 1, 1, 0, 0, 0, 0, 1, 1, 1, 0, 1, 1,\n",
              "       0, 1, 1, 0, 1, 0, 0, 0, 1, 0, 0, 1, 1, 0, 1, 0, 1, 0, 1, 0, 1, 1,\n",
              "       1, 0, 1, 0, 0, 1, 1, 0, 1, 1, 1, 0, 1, 0, 0, 1, 0, 0, 0, 0, 0, 1,\n",
              "       1, 1, 0, 1, 0, 1, 1, 0, 1, 1, 1, 0, 1, 1, 0, 1, 1, 1, 1, 0, 1, 1,\n",
              "       0, 0, 1, 0, 1, 0, 1, 0, 1, 0, 1, 1, 1, 0, 1, 0, 1, 1, 0, 1, 0, 1,\n",
              "       0, 1, 1, 0, 1, 0, 0, 0, 1, 0, 0, 0, 0, 0, 0, 1, 1, 0, 1, 0, 0, 1,\n",
              "       1, 1, 1, 0, 1, 0, 1, 0, 1, 1, 0, 0, 0, 1, 0, 0, 0, 0, 0, 1, 0, 0,\n",
              "       0, 0, 1, 0, 0, 1, 0, 0, 0, 1, 0, 0, 1, 1, 0, 0, 1, 0, 1, 0, 1, 1,\n",
              "       0, 1, 1, 0, 1, 1, 0, 1, 1, 1, 0, 1, 1, 1, 1, 1, 1, 0, 0, 1, 1, 0,\n",
              "       0, 0, 1, 0, 1, 1, 1, 0, 0, 0, 1, 0, 1, 0])"
            ]
          },
          "metadata": {
            "tags": []
          },
          "execution_count": 12
        }
      ]
    },
    {
      "cell_type": "code",
      "metadata": {
        "id": "VBMtkaZ10AIx"
      },
      "source": [
        "x_axis = x[:,0]\r\n",
        "y_axis = x[:,1]"
      ],
      "execution_count": 10,
      "outputs": []
    },
    {
      "cell_type": "code",
      "metadata": {
        "colab": {
          "base_uri": "https://localhost:8080/",
          "height": 364
        },
        "id": "xFb54Cm90BLh",
        "outputId": "d3e88cab-bbc1-4073-f79b-bacbee214eed"
      },
      "source": [
        "plt.style.use(\"seaborn\")\r\n",
        "plt.scatter(x_axis,y_axis,c=y)\r\n",
        "plt.scatter(-0.5,-5)"
      ],
      "execution_count": 6,
      "outputs": [
        {
          "output_type": "execute_result",
          "data": {
            "text/plain": [
              "<matplotlib.collections.PathCollection at 0x7f99b74c4ac8>"
            ]
          },
          "metadata": {
            "tags": []
          },
          "execution_count": 6
        },
        {
          "output_type": "display_data",
          "data": {
            "image/png": "[encoded data removed]",
            "text/plain": [
              "<Figure size 576x396 with 1 Axes>"
            ]
          },
          "metadata": {
            "tags": []
          }
        }
      ]
    },
    {
      "cell_type": "code",
      "metadata": {
        "id": "gG53Dj0C0C4W"
      },
      "source": [
        "def dist(X1,X2):\r\n",
        "    return np.sqrt(np.sum(np.power((X1-X2),2)))"
      ],
      "execution_count": 7,
      "outputs": []
    },
    {
      "cell_type": "code",
      "metadata": {
        "id": "_cX1xd0u0FG6"
      },
      "source": [
        "def knn(X,y,Q,k=5):\r\n",
        "    \"\"\"\r\n",
        "    x-> (100,2) np array\r\n",
        "    y-> (100,) np array\r\n",
        "    x_query-> (1,2) np array\r\n",
        "    k-> scaler int\r\n",
        "    fo knn for classifictation\r\n",
        "    \r\n",
        "    \"\"\"\r\n",
        "    val = []\r\n",
        "    for i in range(X.shape[0]):\r\n",
        "        d = dist(X[i],Q)\r\n",
        "        val.append((d,y[i]))\r\n",
        "        \r\n",
        "    vals = np.array(sorted(val)[:k])\r\n",
        "    return int(max(vals[:,-1]))"
      ],
      "execution_count": 8,
      "outputs": []
    },
    {
      "cell_type": "code",
      "metadata": {
        "colab": {
          "base_uri": "https://localhost:8080/"
        },
        "id": "wYvHu4U20Gz3",
        "outputId": "0907f0e3-b53c-48d3-face-1ee0ed48e294"
      },
      "source": [
        "knn(x,y,[-1,-5])"
      ],
      "execution_count": 9,
      "outputs": [
        {
          "output_type": "execute_result",
          "data": {
            "text/plain": [
              "1"
            ]
          },
          "metadata": {
            "tags": []
          },
          "execution_count": 9
        }
      ]
    },
    {
      "cell_type": "code",
      "metadata": {
        "id": "4A44NfD20IHX"
      },
      "source": [
        ""
      ],
      "execution_count": null,
      "outputs": []
    }
  ]
}