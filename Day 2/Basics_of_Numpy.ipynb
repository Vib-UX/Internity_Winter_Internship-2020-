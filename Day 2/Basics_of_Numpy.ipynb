{
  "nbformat": 4,
  "nbformat_minor": 0,
  "metadata": {
    "colab": {
      "name": "Basics of Numpy.ipynb",
      "provenance": []
    },
    "kernelspec": {
      "name": "python3",
      "display_name": "Python 3"
    }
  },
  "cells": [
    {
      "cell_type": "code",
      "metadata": {
        "colab": {
          "base_uri": "https://localhost:8080/"
        },
        "id": "Wu1pTUWGnpir",
        "outputId": "2822943c-8572-4d40-8aba-afeb51736cd2"
      },
      "source": [
        "#Importing Numpy and creating a numpy darray object\r\n",
        "import numpy as np\r\n",
        "arr1=np.array([100,200,400,500])\r\n",
        "print(arr1)"
      ],
      "execution_count": 1,
      "outputs": [
        {
          "output_type": "stream",
          "text": [
            "[100 200 400 500]\n"
          ],
          "name": "stdout"
        }
      ]
    },
    {
      "cell_type": "code",
      "metadata": {
        "colab": {
          "base_uri": "https://localhost:8080/"
        },
        "id": "82HHNMyrn4Nv",
        "outputId": "b73977af-81e5-4598-b78f-0a4781420e45"
      },
      "source": [
        "#Creating a 2D array\r\n",
        "arr2=np.array([[1,2,3,4],[5,6,7,8]])\r\n",
        "\r\n",
        "#Creating a 3D array\r\n",
        "arr3=np.array([[[1,2,3],[3,4,5],[5,6,7]]])\r\n",
        "\r\n",
        "print(arr2)\r\n",
        "print(arr3)"
      ],
      "execution_count": 2,
      "outputs": [
        {
          "output_type": "stream",
          "text": [
            "[[1 2 3 4]\n",
            " [5 6 7 8]]\n",
            "[[[1 2 3]\n",
            "  [3 4 5]\n",
            "  [5 6 7]]]\n"
          ],
          "name": "stdout"
        }
      ]
    },
    {
      "cell_type": "code",
      "metadata": {
        "colab": {
          "base_uri": "https://localhost:8080/"
        },
        "id": "daAfCmxan-Av",
        "outputId": "d77dea84-b7af-4313-f0aa-c71e6031dc7d"
      },
      "source": [
        "#Checking the Array Shape\r\n",
        "print('Shape:' ,arr3.shape)\r\n",
        "\r\n",
        "#Checking the Array Dimension\r\n",
        "print('Array dimension: ',arr3.ndim)\r\n",
        "\r\n",
        "#Checking the Array Data type\r\n",
        "print('Array DataType: ',arr3.dtype)\r\n",
        "\r\n",
        "#Checking the Array total size(in bytes)\r\n",
        "print('Array size in bytes: ',arr3.nbytes)\r\n",
        "\r\n",
        "#Checking the No of elements in the Array\r\n",
        "print('Item no: ',arr3.itemsize)"
      ],
      "execution_count": 3,
      "outputs": [
        {
          "output_type": "stream",
          "text": [
            "Shape: (1, 3, 3)\n",
            "Array dimension:  3\n",
            "Array DataType:  int64\n",
            "Array size in bytes:  72\n",
            "Item no:  8\n"
          ],
          "name": "stdout"
        }
      ]
    },
    {
      "cell_type": "code",
      "metadata": {
        "colab": {
          "base_uri": "https://localhost:8080/"
        },
        "id": "Z47N3p9qoAqP",
        "outputId": "a26ec782-c56c-40f3-80b0-7b9dfa76e10a"
      },
      "source": [
        "arr1=np.array([1,2,3,4,5],dtype='int16')\r\n",
        "print(arr1.dtype)\r\n",
        "\r\n",
        "arr2=np.array([1,2,3,4,5],dtype='int32')\r\n",
        "print(arr2.dtype)\r\n",
        "\r\n",
        "arr3=np.array([1,2,3,4,5],dtype='int64')\r\n",
        "print(arr3.dtype)"
      ],
      "execution_count": 4,
      "outputs": [
        {
          "output_type": "stream",
          "text": [
            "int16\n",
            "int32\n",
            "int64\n"
          ],
          "name": "stdout"
        }
      ]
    },
    {
      "cell_type": "code",
      "metadata": {
        "colab": {
          "base_uri": "https://localhost:8080/"
        },
        "id": "hT3j--tjoDhu",
        "outputId": "b70435d7-3434-49d9-fbc5-b420692cc6e6"
      },
      "source": [
        "arr = np.array([[1,2,3,4,5], [6,7,8,9,10]])\r\n",
        "#Getting specific row\r\n",
        "print(arr)\r\n",
        "\r\n",
        "#Getting all the elements of first row\r\n",
        "print(arr[0,:])\r\n",
        "\r\n",
        "#Getting all the elements of 2nd column\r\n",
        "print(arr[:,1])\r\n",
        "\r\n",
        "#Getting all the elements of 1st column\r\n",
        "print(arr[:,0])\r\n",
        "\r\n",
        "\r\n",
        "#Slice from the index 3 from the end to index 1 from the end\r\n",
        "arrx = np.array([1, 2, 3, 4, 5, 6, 7])\r\n",
        "print(arrx[-3:-1])\r\n",
        "\r\n",
        "#Slice from the index 3 to the end\r\n",
        "print(arrx[3:])\r\n",
        "\r\n",
        "#Slice from the start to index 3\r\n",
        "print(arrx[:3])\r\n",
        "\r\n",
        "#Return every other element from the entire array\r\n",
        "print(arrx[::2])"
      ],
      "execution_count": 5,
      "outputs": [
        {
          "output_type": "stream",
          "text": [
            "[[ 1  2  3  4  5]\n",
            " [ 6  7  8  9 10]]\n",
            "[1 2 3 4 5]\n",
            "[2 7]\n",
            "[1 6]\n",
            "[5 6]\n",
            "[4 5 6 7]\n",
            "[1 2 3]\n",
            "[1 3 5 7]\n"
          ],
          "name": "stdout"
        }
      ]
    },
    {
      "cell_type": "code",
      "metadata": {
        "colab": {
          "base_uri": "https://localhost:8080/"
        },
        "id": "abazY7EuoHRu",
        "outputId": "3a9848fd-b230-480c-b1c3-3d5eb7dfb169"
      },
      "source": [
        "#Creating an array of dimensions 3x4 with all values set to zero\r\n",
        "arr0=np.zeros((3,4))\r\n",
        "print(arr0)\r\n",
        "\r\n",
        "#Creating an array of dimensions 1x2 with all values set to one\r\n",
        "arr1=np.ones((1,2))\r\n",
        "print(arr1)\r\n",
        "\r\n",
        "#Creating an identity 2d matrix\r\n",
        "arr=np.identity(2)\r\n",
        "print(arr)\r\n",
        "\r\n",
        "#Creating a 2d matrix with all values set to 93.93\r\n",
        "arr=np.full((2,2),93.93)\r\n",
        "print(arr)\r\n",
        "\r\n",
        "#Creating a 2d matrix that resembles an existing one\r\n",
        "#Here arr dimension will resemble arr but the values will be set to 98\r\n",
        "arr1=np.full_like(arr,98)\r\n",
        "print(arr1)"
      ],
      "execution_count": 6,
      "outputs": [
        {
          "output_type": "stream",
          "text": [
            "[[0. 0. 0. 0.]\n",
            " [0. 0. 0. 0.]\n",
            " [0. 0. 0. 0.]]\n",
            "[[1. 1.]]\n",
            "[[1. 0.]\n",
            " [0. 1.]]\n",
            "[[93.93 93.93]\n",
            " [93.93 93.93]]\n",
            "[[98. 98.]\n",
            " [98. 98.]]\n"
          ],
          "name": "stdout"
        }
      ]
    },
    {
      "cell_type": "code",
      "metadata": {
        "id": "7bO5wm5boKDg",
        "outputId": "78eff35c-15d9-487b-8c09-c407c874b077",
        "colab": {
          "base_uri": "https://localhost:8080/"
        }
      },
      "source": [
        "#Creating a matrix with random float values\r\n",
        "#First we are specifying the range ie our values will range from -1 to 10\r\n",
        "#Secondly we are specifying the size of the array\r\n",
        "arr=np.random.uniform(-1,10,size=(4,4))\r\n",
        "print(arr)"
      ],
      "execution_count": 7,
      "outputs": [
        {
          "output_type": "stream",
          "text": [
            "[[ 4.63685244  0.58887642  6.40364553  4.07122218]\n",
            " [ 4.01236814  4.05895482  1.24203227 -0.64471923]\n",
            " [ 5.54267986  0.26919583  3.4728511   0.88366986]\n",
            " [-0.75583622  2.66136901  8.46109085  4.1880052 ]]\n"
          ],
          "name": "stdout"
        }
      ]
    },
    {
      "cell_type": "code",
      "metadata": {
        "id": "jdyE8ET2oKt-"
      },
      "source": [
        ""
      ],
      "execution_count": null,
      "outputs": []
    }
  ]
}