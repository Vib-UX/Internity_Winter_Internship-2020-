{
  "nbformat": 4,
  "nbformat_minor": 0,
  "metadata": {
    "colab": {
      "name": "Decision Tree from scratch.ipynb",
      "provenance": []
    },
    "kernelspec": {
      "name": "python3",
      "display_name": "Python 3"
    }
  },
  "cells": [
    {
      "cell_type": "code",
      "metadata": {
        "id": "VBA4bbR1_1a5"
      },
      "source": [
        "import numpy as np\r\n",
        "import pandas as pd\r\n",
        "from collections import Counter"
      ],
      "execution_count": 6,
      "outputs": []
    },
    {
      "cell_type": "code",
      "metadata": {
        "colab": {
          "base_uri": "https://localhost:8080/",
          "height": 194
        },
        "id": "k4kj2lRSAVhq",
        "outputId": "6a8418a0-1e79-4608-af45-cc60aba1ac71"
      },
      "source": [
        "df = pd.read_csv('/content/diabetes.csv')\r\n",
        "df.head()"
      ],
      "execution_count": 7,
      "outputs": [
        {
          "output_type": "execute_result",
          "data": {
            "text/html": [
              "<div>\n",
              "<style scoped>\n",
              "    .dataframe tbody tr th:only-of-type {\n",
              "        vertical-align: middle;\n",
              "    }\n",
              "\n",
              "    .dataframe tbody tr th {\n",
              "        vertical-align: top;\n",
              "    }\n",
              "\n",
              "    .dataframe thead th {\n",
              "        text-align: right;\n",
              "    }\n",
              "</style>\n",
              "<table border=\"1\" class=\"dataframe\">\n",
              "  <thead>\n",
              "    <tr style=\"text-align: right;\">\n",
              "      <th></th>\n",
              "      <th>Pregnancies</th>\n",
              "      <th>Glucose</th>\n",
              "      <th>BloodPressure</th>\n",
              "      <th>SkinThickness</th>\n",
              "      <th>Insulin</th>\n",
              "      <th>BMI</th>\n",
              "      <th>DiabetesPedigreeFunction</th>\n",
              "      <th>Age</th>\n",
              "      <th>Outcome</th>\n",
              "    </tr>\n",
              "  </thead>\n",
              "  <tbody>\n",
              "    <tr>\n",
              "      <th>0</th>\n",
              "      <td>6</td>\n",
              "      <td>148</td>\n",
              "      <td>72</td>\n",
              "      <td>35</td>\n",
              "      <td>0</td>\n",
              "      <td>33.6</td>\n",
              "      <td>0.627</td>\n",
              "      <td>50</td>\n",
              "      <td>1</td>\n",
              "    </tr>\n",
              "    <tr>\n",
              "      <th>1</th>\n",
              "      <td>1</td>\n",
              "      <td>85</td>\n",
              "      <td>66</td>\n",
              "      <td>29</td>\n",
              "      <td>0</td>\n",
              "      <td>26.6</td>\n",
              "      <td>0.351</td>\n",
              "      <td>31</td>\n",
              "      <td>0</td>\n",
              "    </tr>\n",
              "    <tr>\n",
              "      <th>2</th>\n",
              "      <td>8</td>\n",
              "      <td>183</td>\n",
              "      <td>64</td>\n",
              "      <td>0</td>\n",
              "      <td>0</td>\n",
              "      <td>23.3</td>\n",
              "      <td>0.672</td>\n",
              "      <td>32</td>\n",
              "      <td>1</td>\n",
              "    </tr>\n",
              "    <tr>\n",
              "      <th>3</th>\n",
              "      <td>1</td>\n",
              "      <td>89</td>\n",
              "      <td>66</td>\n",
              "      <td>23</td>\n",
              "      <td>94</td>\n",
              "      <td>28.1</td>\n",
              "      <td>0.167</td>\n",
              "      <td>21</td>\n",
              "      <td>0</td>\n",
              "    </tr>\n",
              "    <tr>\n",
              "      <th>4</th>\n",
              "      <td>0</td>\n",
              "      <td>137</td>\n",
              "      <td>40</td>\n",
              "      <td>35</td>\n",
              "      <td>168</td>\n",
              "      <td>43.1</td>\n",
              "      <td>2.288</td>\n",
              "      <td>33</td>\n",
              "      <td>1</td>\n",
              "    </tr>\n",
              "  </tbody>\n",
              "</table>\n",
              "</div>"
            ],
            "text/plain": [
              "   Pregnancies  Glucose  BloodPressure  ...  DiabetesPedigreeFunction  Age  Outcome\n",
              "0            6      148             72  ...                     0.627   50        1\n",
              "1            1       85             66  ...                     0.351   31        0\n",
              "2            8      183             64  ...                     0.672   32        1\n",
              "3            1       89             66  ...                     0.167   21        0\n",
              "4            0      137             40  ...                     2.288   33        1\n",
              "\n",
              "[5 rows x 9 columns]"
            ]
          },
          "metadata": {
            "tags": []
          },
          "execution_count": 7
        }
      ]
    },
    {
      "cell_type": "code",
      "metadata": {
        "colab": {
          "base_uri": "https://localhost:8080/",
          "height": 282
        },
        "id": "Mp2GrPOhBeBr",
        "outputId": "a2b46760-4e03-4f12-b58a-50d73c4d345e"
      },
      "source": [
        "df.describe()"
      ],
      "execution_count": 8,
      "outputs": [
        {
          "output_type": "execute_result",
          "data": {
            "text/html": [
              "<div>\n",
              "<style scoped>\n",
              "    .dataframe tbody tr th:only-of-type {\n",
              "        vertical-align: middle;\n",
              "    }\n",
              "\n",
              "    .dataframe tbody tr th {\n",
              "        vertical-align: top;\n",
              "    }\n",
              "\n",
              "    .dataframe thead th {\n",
              "        text-align: right;\n",
              "    }\n",
              "</style>\n",
              "<table border=\"1\" class=\"dataframe\">\n",
              "  <thead>\n",
              "    <tr style=\"text-align: right;\">\n",
              "      <th></th>\n",
              "      <th>Pregnancies</th>\n",
              "      <th>Glucose</th>\n",
              "      <th>BloodPressure</th>\n",
              "      <th>SkinThickness</th>\n",
              "      <th>Insulin</th>\n",
              "      <th>BMI</th>\n",
              "      <th>DiabetesPedigreeFunction</th>\n",
              "      <th>Age</th>\n",
              "      <th>Outcome</th>\n",
              "    </tr>\n",
              "  </thead>\n",
              "  <tbody>\n",
              "    <tr>\n",
              "      <th>count</th>\n",
              "      <td>768.000000</td>\n",
              "      <td>768.000000</td>\n",
              "      <td>768.000000</td>\n",
              "      <td>768.000000</td>\n",
              "      <td>768.000000</td>\n",
              "      <td>768.000000</td>\n",
              "      <td>768.000000</td>\n",
              "      <td>768.000000</td>\n",
              "      <td>768.000000</td>\n",
              "    </tr>\n",
              "    <tr>\n",
              "      <th>mean</th>\n",
              "      <td>3.845052</td>\n",
              "      <td>120.894531</td>\n",
              "      <td>69.105469</td>\n",
              "      <td>20.536458</td>\n",
              "      <td>79.799479</td>\n",
              "      <td>31.992578</td>\n",
              "      <td>0.471876</td>\n",
              "      <td>33.240885</td>\n",
              "      <td>0.348958</td>\n",
              "    </tr>\n",
              "    <tr>\n",
              "      <th>std</th>\n",
              "      <td>3.369578</td>\n",
              "      <td>31.972618</td>\n",
              "      <td>19.355807</td>\n",
              "      <td>15.952218</td>\n",
              "      <td>115.244002</td>\n",
              "      <td>7.884160</td>\n",
              "      <td>0.331329</td>\n",
              "      <td>11.760232</td>\n",
              "      <td>0.476951</td>\n",
              "    </tr>\n",
              "    <tr>\n",
              "      <th>min</th>\n",
              "      <td>0.000000</td>\n",
              "      <td>0.000000</td>\n",
              "      <td>0.000000</td>\n",
              "      <td>0.000000</td>\n",
              "      <td>0.000000</td>\n",
              "      <td>0.000000</td>\n",
              "      <td>0.078000</td>\n",
              "      <td>21.000000</td>\n",
              "      <td>0.000000</td>\n",
              "    </tr>\n",
              "    <tr>\n",
              "      <th>25%</th>\n",
              "      <td>1.000000</td>\n",
              "      <td>99.000000</td>\n",
              "      <td>62.000000</td>\n",
              "      <td>0.000000</td>\n",
              "      <td>0.000000</td>\n",
              "      <td>27.300000</td>\n",
              "      <td>0.243750</td>\n",
              "      <td>24.000000</td>\n",
              "      <td>0.000000</td>\n",
              "    </tr>\n",
              "    <tr>\n",
              "      <th>50%</th>\n",
              "      <td>3.000000</td>\n",
              "      <td>117.000000</td>\n",
              "      <td>72.000000</td>\n",
              "      <td>23.000000</td>\n",
              "      <td>30.500000</td>\n",
              "      <td>32.000000</td>\n",
              "      <td>0.372500</td>\n",
              "      <td>29.000000</td>\n",
              "      <td>0.000000</td>\n",
              "    </tr>\n",
              "    <tr>\n",
              "      <th>75%</th>\n",
              "      <td>6.000000</td>\n",
              "      <td>140.250000</td>\n",
              "      <td>80.000000</td>\n",
              "      <td>32.000000</td>\n",
              "      <td>127.250000</td>\n",
              "      <td>36.600000</td>\n",
              "      <td>0.626250</td>\n",
              "      <td>41.000000</td>\n",
              "      <td>1.000000</td>\n",
              "    </tr>\n",
              "    <tr>\n",
              "      <th>max</th>\n",
              "      <td>17.000000</td>\n",
              "      <td>199.000000</td>\n",
              "      <td>122.000000</td>\n",
              "      <td>99.000000</td>\n",
              "      <td>846.000000</td>\n",
              "      <td>67.100000</td>\n",
              "      <td>2.420000</td>\n",
              "      <td>81.000000</td>\n",
              "      <td>1.000000</td>\n",
              "    </tr>\n",
              "  </tbody>\n",
              "</table>\n",
              "</div>"
            ],
            "text/plain": [
              "       Pregnancies     Glucose  ...         Age     Outcome\n",
              "count   768.000000  768.000000  ...  768.000000  768.000000\n",
              "mean      3.845052  120.894531  ...   33.240885    0.348958\n",
              "std       3.369578   31.972618  ...   11.760232    0.476951\n",
              "min       0.000000    0.000000  ...   21.000000    0.000000\n",
              "25%       1.000000   99.000000  ...   24.000000    0.000000\n",
              "50%       3.000000  117.000000  ...   29.000000    0.000000\n",
              "75%       6.000000  140.250000  ...   41.000000    1.000000\n",
              "max      17.000000  199.000000  ...   81.000000    1.000000\n",
              "\n",
              "[8 rows x 9 columns]"
            ]
          },
          "metadata": {
            "tags": []
          },
          "execution_count": 8
        }
      ]
    },
    {
      "cell_type": "code",
      "metadata": {
        "id": "jJClncb3C8Rh"
      },
      "source": [
        "features = ['Pregnancies', 'Glucose', 'BloodPressure','SkinThickness','Insulin','BMI','DiabetesPedigreeFunction','Age']\r\n",
        "X = df[features].values\r\n",
        "y = df['Outcome'].values"
      ],
      "execution_count": 11,
      "outputs": []
    },
    {
      "cell_type": "code",
      "metadata": {
        "id": "F2mmtc7LDk7J"
      },
      "source": [
        "X = np.array(X)\r\n",
        "y = np.array(y)"
      ],
      "execution_count": 12,
      "outputs": []
    },
    {
      "cell_type": "code",
      "metadata": {
        "id": "CRv_WuqFD2Xp"
      },
      "source": [
        "from sklearn.model_selection import train_test_split\r\n",
        "X_train, X_test, y_train, y_test = train_test_split(X, y, test_size=0.2)"
      ],
      "execution_count": 13,
      "outputs": []
    },
    {
      "cell_type": "code",
      "metadata": {
        "id": "0C8xdYDkD9qA"
      },
      "source": [
        "from sklearn.preprocessing import StandardScaler\r\n",
        "scaler = StandardScaler()\r\n",
        "scaler.fit(X)\r\n",
        "X_train_scaled = scaler.transform(X_train)\r\n",
        "X_test_scaled = scaler.transform(X_test)"
      ],
      "execution_count": 15,
      "outputs": []
    },
    {
      "cell_type": "code",
      "metadata": {
        "id": "bpKIgfTJASk1"
      },
      "source": [
        "def entropy(y):\r\n",
        "    hist = np.bincount(y)\r\n",
        "    ps = hist / len(y)\r\n",
        "    return -np.sum([p * np.log2(p) for p in ps if p > 0])"
      ],
      "execution_count": 4,
      "outputs": []
    },
    {
      "cell_type": "code",
      "metadata": {
        "id": "xYRVh0WCAQdD"
      },
      "source": [
        "class Node:\r\n",
        "    def __init__(self, feature=None, threshold=None, left=None, right=None, *, value=None):\r\n",
        "        self.feature = feature\r\n",
        "        self.threshold = threshold\r\n",
        "        self.left = left\r\n",
        "        self.right = right\r\n",
        "        self.value = value\r\n",
        "\r\n",
        "    def is_leaf_node(self):\r\n",
        "        return self.value is not None"
      ],
      "execution_count": 3,
      "outputs": []
    },
    {
      "cell_type": "code",
      "metadata": {
        "id": "kHPqaOGdAIud"
      },
      "source": [
        "class DecisionTree:\r\n",
        "\r\n",
        "    def __init__(self, min_samples_split=2, max_depth=100, n_feats=None):\r\n",
        "        self.min_samples_split = min_samples_split\r\n",
        "        self.max_depth = max_depth\r\n",
        "        self.n_feats = n_feats\r\n",
        "        self.root = None\r\n",
        "\r\n",
        "    def fit(self, X, y):\r\n",
        "        self.n_feats = X.shape[1] if not self.n_feats else min(self.n_feats, X.shape[1])\r\n",
        "        self.root = self._grow_tree(X, y)\r\n",
        "\r\n",
        "    def predict(self, X):\r\n",
        "        return np.array([self._traverse_tree(x, self.root) for x in X])\r\n",
        "\r\n",
        "    def _grow_tree(self, X, y, depth=0):\r\n",
        "        n_samples, n_features = X.shape\r\n",
        "        n_labels = len(np.unique(y))\r\n",
        "\r\n",
        "        # stopping criteria\r\n",
        "        if (depth >= self.max_depth\r\n",
        "                or n_labels == 1\r\n",
        "                or n_samples < self.min_samples_split):\r\n",
        "            leaf_value = self._most_common_label(y)\r\n",
        "            return Node(value=leaf_value)\r\n",
        "\r\n",
        "        feat_idxs = np.random.choice(n_features, self.n_feats, replace=False)\r\n",
        "\r\n",
        "        # greedily select the best split according to information gain\r\n",
        "        best_feat, best_thresh = self._best_criteria(X, y, feat_idxs)\r\n",
        "        \r\n",
        "        # grow the children that result from the split\r\n",
        "        left_idxs, right_idxs = self._split(X[:, best_feat], best_thresh)\r\n",
        "        left = self._grow_tree(X[left_idxs, :], y[left_idxs], depth+1)\r\n",
        "        right = self._grow_tree(X[right_idxs, :], y[right_idxs], depth+1)\r\n",
        "        return Node(best_feat, best_thresh, left, right)\r\n",
        "\r\n",
        "    def _best_criteria(self, X, y, feat_idxs):\r\n",
        "        best_gain = -1\r\n",
        "        split_idx, split_thresh = None, None\r\n",
        "        for feat_idx in feat_idxs:\r\n",
        "            X_column = X[:, feat_idx]\r\n",
        "            thresholds = np.unique(X_column)\r\n",
        "            for threshold in thresholds:\r\n",
        "                gain = self._information_gain(y, X_column, threshold)\r\n",
        "\r\n",
        "                if gain > best_gain:\r\n",
        "                    best_gain = gain\r\n",
        "                    split_idx = feat_idx\r\n",
        "                    split_thresh = threshold\r\n",
        "\r\n",
        "        return split_idx, split_thresh\r\n",
        "\r\n",
        "    def _information_gain(self, y, X_column, split_thresh):\r\n",
        "        # parent loss\r\n",
        "        parent_entropy = entropy(y)\r\n",
        "\r\n",
        "        # generate split\r\n",
        "        left_idxs, right_idxs = self._split(X_column, split_thresh)\r\n",
        "\r\n",
        "        if len(left_idxs) == 0 or len(right_idxs) == 0:\r\n",
        "            return 0\r\n",
        "\r\n",
        "        # compute the weighted avg. of the loss for the children\r\n",
        "        n = len(y)\r\n",
        "        n_l, n_r = len(left_idxs), len(right_idxs)\r\n",
        "        e_l, e_r = entropy(y[left_idxs]), entropy(y[right_idxs])\r\n",
        "        child_entropy = (n_l / n) * e_l + (n_r / n) * e_r\r\n",
        "\r\n",
        "        # information gain is difference in loss before vs. after split\r\n",
        "        ig = parent_entropy - child_entropy\r\n",
        "        return ig\r\n",
        "\r\n",
        "    def _split(self, X_column, split_thresh):\r\n",
        "        left_idxs = np.argwhere(X_column <= split_thresh).flatten()\r\n",
        "        right_idxs = np.argwhere(X_column > split_thresh).flatten()\r\n",
        "        return left_idxs, right_idxs\r\n",
        "\r\n",
        "    def _traverse_tree(self, x, node):\r\n",
        "        if node.is_leaf_node():\r\n",
        "            return node.value\r\n",
        "\r\n",
        "        if x[node.feature] <= node.threshold:\r\n",
        "            return self._traverse_tree(x, node.left)\r\n",
        "        return self._traverse_tree(x, node.right)\r\n",
        "\r\n",
        "    def _most_common_label(self, y):\r\n",
        "        counter = Counter(y)\r\n",
        "        most_common = counter.most_common(1)[0][0]\r\n",
        "        return most_common"
      ],
      "execution_count": 2,
      "outputs": []
    },
    {
      "cell_type": "code",
      "metadata": {
        "id": "jMJzEFDAD_cB"
      },
      "source": [
        "clf = DecisionTree(max_depth = 10)\r\n",
        "clf.fit(X_train, y_train)"
      ],
      "execution_count": 16,
      "outputs": []
    },
    {
      "cell_type": "code",
      "metadata": {
        "id": "s3AMD2waEJ0J"
      },
      "source": [
        "y_pred = clf.predict(X_train)"
      ],
      "execution_count": 18,
      "outputs": []
    },
    {
      "cell_type": "code",
      "metadata": {
        "id": "nXlbsSRuENHx"
      },
      "source": [
        "def accuracy(y_true, y_pred):\r\n",
        "  accuracy = np.sum(y_true == y_pred)/len(y_true)\r\n",
        "  return accuracy"
      ],
      "execution_count": 19,
      "outputs": []
    },
    {
      "cell_type": "code",
      "metadata": {
        "id": "HoxnsT8TEQoQ"
      },
      "source": [
        "acc = accuracy(y_train, y_pred)"
      ],
      "execution_count": 20,
      "outputs": []
    },
    {
      "cell_type": "code",
      "metadata": {
        "colab": {
          "base_uri": "https://localhost:8080/"
        },
        "id": "AGhAJpJiEVjI",
        "outputId": "3be3052a-9cd9-4457-d03b-5e3ee484bab8"
      },
      "source": [
        "acc"
      ],
      "execution_count": 21,
      "outputs": [
        {
          "output_type": "execute_result",
          "data": {
            "text/plain": [
              "0.9413680781758957"
            ]
          },
          "metadata": {
            "tags": []
          },
          "execution_count": 21
        }
      ]
    },
    {
      "cell_type": "code",
      "metadata": {
        "id": "bMLsqHrQEWAI"
      },
      "source": [
        "y_pred = clf.predict(X_test)\r\n",
        "acc = accuracy(y_test, y_pred)"
      ],
      "execution_count": 22,
      "outputs": []
    },
    {
      "cell_type": "code",
      "metadata": {
        "colab": {
          "base_uri": "https://localhost:8080/"
        },
        "id": "4YXv_fPHEY4x",
        "outputId": "51e01097-b286-42ea-c4ab-e0a8d01c6c8b"
      },
      "source": [
        "acc"
      ],
      "execution_count": 23,
      "outputs": [
        {
          "output_type": "execute_result",
          "data": {
            "text/plain": [
              "0.7077922077922078"
            ]
          },
          "metadata": {
            "tags": []
          },
          "execution_count": 23
        }
      ]
    },
    {
      "cell_type": "code",
      "metadata": {
        "id": "ybj5QFWREZeh"
      },
      "source": [
        ""
      ],
      "execution_count": null,
      "outputs": []
    }
  ]
}