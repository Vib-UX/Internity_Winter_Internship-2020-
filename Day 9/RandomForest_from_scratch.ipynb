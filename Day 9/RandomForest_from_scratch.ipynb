{
  "nbformat": 4,
  "nbformat_minor": 0,
  "metadata": {
    "colab": {
      "name": "RandomForest_from_scratch.ipynb",
      "provenance": [],
      "collapsed_sections": []
    },
    "kernelspec": {
      "display_name": "Python 3",
      "language": "python",
      "name": "python3"
    },
    "language_info": {
      "codemirror_mode": {
        "name": "ipython",
        "version": 3
      },
      "file_extension": ".py",
      "mimetype": "text/x-python",
      "name": "python",
      "nbconvert_exporter": "python",
      "pygments_lexer": "ipython3",
      "version": "3.7.4"
    }
  },
  "cells": [
    {
      "cell_type": "markdown",
      "metadata": {
        "id": "m5A6n7jvYxPC"
      },
      "source": [
        "#Vehicle silhouettes\n",
        "\n",
        "##Objective\n",
        "To classify a given silhouette as one of four types of vehicle, \tusing a set of features extracted from the silhouette. The \tvehicle may be viewed from one of many different angles.   \n",
        "\n",
        "##Description\n",
        "\n",
        "###The features were extracted from the silhouettes by the HIPS\n",
        "(Hierarchical Image Processing System) extension BINATTS, which extracts a combination of scale independent features utilising\tboth classical moments based measures such as scaled variance,\tskewness and kurtosis about the major/minor axes and heuristic\tmeasures such as hollows, circularity, rectangularity and\tcompactness. Four \"Corgie\" model vehicles were used for the experiment: a double decker bus, Cheverolet van, Saab 9000 and an Opel Manta 400.\tThis particular combination of vehicles was chosen with the expectation that the bus, van and either one of the cars would be readily distinguishable, but it would be more difficult to distinguish between the cars.\n",
        "\n",
        "\n",
        "## ATTRIBUTES\n",
        "1.\tcompactness\tfloat\taverage perimeter**2/area\n",
        "2.\tcircularity\tfloat\taverage radius**2/area\n",
        "3.\tdistance_circularity\tfloat\tarea/(av.distance from border)**2\n",
        "4.\tradius_ratio\tfloat\t(max.rad-min.rad)/av.radius\n",
        "5.\tpr_axis_aspect_ratio\tfloat\t(minor axis)/(major axis)\n",
        "6.\tmax_length_aspect_ratio\tfloat\t(length perp. max length)/(max length)\n",
        "7.\tscatter_ratio\tfloat\t(inertia about minor axis)/(inertia about major axis)\n",
        "8.\telongatedness\tfloat\tarea/(shrink width)**2\n",
        "9.\tpr_axis_rectangularity\tfloat\tarea/(pr.axis length*pr.axis width)\n",
        "10.\tmax_length_rectangularity\tfloat\tarea/(max.length*length perp. to this)\n",
        "11.\tscaled_variance_major_axis\tfloat\t(2nd order moment about minor axis)/area\n",
        "12.\tscaled_variance_minor_axis\tfloat\t(2nd order moment about major axis)/area\n",
        "13.\tscaled_radius_gyration\tfloat\t(mavar+mivar)/area\n",
        "14.\tskewness_major_axis\tfloat\t(3rd order moment about major axis)/sigma_min**3\n",
        "15.\tskewness_minor_axis\tfloat\t(3rd order moment about minor axis)/sigma_maj**3\n",
        "16.\tkurtosis_minor_axis\tfloat\t(4th order moment about major axis)/sigma_min**4\n",
        "17.\tkurtosis_major_axis\tfloat\t(4th order moment about minor axis)/sigma_maj**4\n",
        "18.\thollows_ratio\tfloat\t(area of hollows)/(area of bounding polygon)\n",
        "\n",
        "##Target variable\n",
        "19.\tvehicle_class\tstring\tPredictor Class. Values: Opel, Saab, Bus, Van\t\n",
        "\n",
        "#Tasks:\n",
        "1.\tObtain the multi-class dataset from the given link\n",
        "2.\tLoad the dataset\n",
        "3.\tApply pre-processing techniques: Encoding, Scaling\n",
        "4.\tDivide the dataset into training (70%) and testing (30%)\n",
        "5.\tBuild your own random forest model from scratch \n",
        "6.\tTrain the random forest model\n",
        "7.\tTest the random forest model\n",
        "8.\tTrain and test the random forest model using sklearn.\n",
        "9.\tCompare the performance of both the models\n",
        "\n",
        "##Useful links:\n",
        "https://machinelearningmastery.com/implement-random-forest-scratch-python/\n",
        "\n",
        "https://towardsdatascience.com/random-forests-and-decision-trees-from-scratch-in-python-3e4fa5ae4249\n",
        "\n",
        "https://www.analyticsvidhya.com/blog/2018/12/building-a-random-forest-from-scratch-understanding-real-world-data-products-ml-for-programmers-part-3/"
      ]
    },
    {
      "cell_type": "markdown",
      "metadata": {
        "id": "W-FoSpD3QDP4"
      },
      "source": [
        "# Part 1: Random Forest from scratch\n",
        "\n",
        "Random forests are an ensemble learning method for classification and regression that operate by constructing multiple decision trees at training time and outputting the class that is the mode of the classes (classification) or mean prediction (regression) of the individual trees."
      ]
    },
    {
      "cell_type": "code",
      "metadata": {
        "id": "4q0F2HVFPl0R"
      },
      "source": [
        "# Load the libraries\n",
        "import seaborn as sns\n",
        "import pandas as pd\n",
        "import numpy as np\n",
        "import matplotlib.pyplot as plt\n",
        "import scipy.stats\n",
        "from sklearn import preprocessing\n",
        "import pandas as pd\n",
        "import scipy.stats\n",
        "from sklearn.feature_selection import SelectKBest\n",
        "from scipy.stats import chi2 \n",
        "from sklearn.feature_selection import f_classif\n",
        "from sklearn.model_selection import train_test_split\n",
        "from sklearn.feature_selection import RFE\n",
        "from sklearn.linear_model import LogisticRegression\n",
        "from sklearn.linear_model import LogisticRegression,SGDClassifier, RidgeClassifier\n",
        "from sklearn.tree import DecisionTreeClassifier\n",
        "from sklearn.feature_selection import RFE\n",
        "from sklearn.feature_selection import RFECV\n",
        "from sklearn.feature_selection import SelectKBest, chi2\n",
        "from sklearn.metrics import accuracy_score, f1_score\n",
        "from sklearn.metrics import f1_score,confusion_matrix\n",
        "from sklearn.model_selection import train_test_split\n",
        "from sklearn.linear_model import LogisticRegression"
      ],
      "execution_count": null,
      "outputs": []
    },
    {
      "cell_type": "code",
      "metadata": {
        "id": "VACehGfwPoAg",
        "outputId": "36f63814-e5c3-496b-a0c6-a489f0db4160"
      },
      "source": [
        "# Load the dataset \n",
        "\n",
        "data=pd.read_csv('content/vehicle.csv')\n",
        "data.head()"
      ],
      "execution_count": null,
      "outputs": [
        {
          "output_type": "execute_result",
          "data": {
            "text/html": [
              "<div>\n",
              "<style scoped>\n",
              "    .dataframe tbody tr th:only-of-type {\n",
              "        vertical-align: middle;\n",
              "    }\n",
              "\n",
              "    .dataframe tbody tr th {\n",
              "        vertical-align: top;\n",
              "    }\n",
              "\n",
              "    .dataframe thead th {\n",
              "        text-align: right;\n",
              "    }\n",
              "</style>\n",
              "<table border=\"1\" class=\"dataframe\">\n",
              "  <thead>\n",
              "    <tr style=\"text-align: right;\">\n",
              "      <th></th>\n",
              "      <th>compactness</th>\n",
              "      <th>circularity</th>\n",
              "      <th>distance_circularity</th>\n",
              "      <th>radius_ratio</th>\n",
              "      <th>pr.axis_aspect_ratio</th>\n",
              "      <th>max.length_aspect_ratio</th>\n",
              "      <th>scatter_ratio</th>\n",
              "      <th>elongatedness</th>\n",
              "      <th>pr.axis_rectangularity</th>\n",
              "      <th>max.length_rectangularity</th>\n",
              "      <th>scaled_variance</th>\n",
              "      <th>scaled_variance.1</th>\n",
              "      <th>scaled_radius_of_gyration</th>\n",
              "      <th>scaled_radius_of_gyration.1</th>\n",
              "      <th>skewness_about</th>\n",
              "      <th>skewness_about.1</th>\n",
              "      <th>skewness_about.2</th>\n",
              "      <th>hollows_ratio</th>\n",
              "      <th>class</th>\n",
              "    </tr>\n",
              "  </thead>\n",
              "  <tbody>\n",
              "    <tr>\n",
              "      <td>0</td>\n",
              "      <td>95</td>\n",
              "      <td>48.0</td>\n",
              "      <td>83.0</td>\n",
              "      <td>178.0</td>\n",
              "      <td>72.0</td>\n",
              "      <td>10</td>\n",
              "      <td>162.0</td>\n",
              "      <td>42.0</td>\n",
              "      <td>20.0</td>\n",
              "      <td>159</td>\n",
              "      <td>176.0</td>\n",
              "      <td>379.0</td>\n",
              "      <td>184.0</td>\n",
              "      <td>70.0</td>\n",
              "      <td>6.0</td>\n",
              "      <td>16.0</td>\n",
              "      <td>187.0</td>\n",
              "      <td>197</td>\n",
              "      <td>van</td>\n",
              "    </tr>\n",
              "    <tr>\n",
              "      <td>1</td>\n",
              "      <td>91</td>\n",
              "      <td>41.0</td>\n",
              "      <td>84.0</td>\n",
              "      <td>141.0</td>\n",
              "      <td>57.0</td>\n",
              "      <td>9</td>\n",
              "      <td>149.0</td>\n",
              "      <td>45.0</td>\n",
              "      <td>19.0</td>\n",
              "      <td>143</td>\n",
              "      <td>170.0</td>\n",
              "      <td>330.0</td>\n",
              "      <td>158.0</td>\n",
              "      <td>72.0</td>\n",
              "      <td>9.0</td>\n",
              "      <td>14.0</td>\n",
              "      <td>189.0</td>\n",
              "      <td>199</td>\n",
              "      <td>van</td>\n",
              "    </tr>\n",
              "    <tr>\n",
              "      <td>2</td>\n",
              "      <td>104</td>\n",
              "      <td>50.0</td>\n",
              "      <td>106.0</td>\n",
              "      <td>209.0</td>\n",
              "      <td>66.0</td>\n",
              "      <td>10</td>\n",
              "      <td>207.0</td>\n",
              "      <td>32.0</td>\n",
              "      <td>23.0</td>\n",
              "      <td>158</td>\n",
              "      <td>223.0</td>\n",
              "      <td>635.0</td>\n",
              "      <td>220.0</td>\n",
              "      <td>73.0</td>\n",
              "      <td>14.0</td>\n",
              "      <td>9.0</td>\n",
              "      <td>188.0</td>\n",
              "      <td>196</td>\n",
              "      <td>car</td>\n",
              "    </tr>\n",
              "    <tr>\n",
              "      <td>3</td>\n",
              "      <td>93</td>\n",
              "      <td>41.0</td>\n",
              "      <td>82.0</td>\n",
              "      <td>159.0</td>\n",
              "      <td>63.0</td>\n",
              "      <td>9</td>\n",
              "      <td>144.0</td>\n",
              "      <td>46.0</td>\n",
              "      <td>19.0</td>\n",
              "      <td>143</td>\n",
              "      <td>160.0</td>\n",
              "      <td>309.0</td>\n",
              "      <td>127.0</td>\n",
              "      <td>63.0</td>\n",
              "      <td>6.0</td>\n",
              "      <td>10.0</td>\n",
              "      <td>199.0</td>\n",
              "      <td>207</td>\n",
              "      <td>van</td>\n",
              "    </tr>\n",
              "    <tr>\n",
              "      <td>4</td>\n",
              "      <td>85</td>\n",
              "      <td>44.0</td>\n",
              "      <td>70.0</td>\n",
              "      <td>205.0</td>\n",
              "      <td>103.0</td>\n",
              "      <td>52</td>\n",
              "      <td>149.0</td>\n",
              "      <td>45.0</td>\n",
              "      <td>19.0</td>\n",
              "      <td>144</td>\n",
              "      <td>241.0</td>\n",
              "      <td>325.0</td>\n",
              "      <td>188.0</td>\n",
              "      <td>127.0</td>\n",
              "      <td>9.0</td>\n",
              "      <td>11.0</td>\n",
              "      <td>180.0</td>\n",
              "      <td>183</td>\n",
              "      <td>bus</td>\n",
              "    </tr>\n",
              "  </tbody>\n",
              "</table>\n",
              "</div>"
            ],
            "text/plain": [
              "   compactness  circularity  distance_circularity  radius_ratio  \\\n",
              "0           95         48.0                  83.0         178.0   \n",
              "1           91         41.0                  84.0         141.0   \n",
              "2          104         50.0                 106.0         209.0   \n",
              "3           93         41.0                  82.0         159.0   \n",
              "4           85         44.0                  70.0         205.0   \n",
              "\n",
              "   pr.axis_aspect_ratio  max.length_aspect_ratio  scatter_ratio  \\\n",
              "0                  72.0                       10          162.0   \n",
              "1                  57.0                        9          149.0   \n",
              "2                  66.0                       10          207.0   \n",
              "3                  63.0                        9          144.0   \n",
              "4                 103.0                       52          149.0   \n",
              "\n",
              "   elongatedness  pr.axis_rectangularity  max.length_rectangularity  \\\n",
              "0           42.0                    20.0                        159   \n",
              "1           45.0                    19.0                        143   \n",
              "2           32.0                    23.0                        158   \n",
              "3           46.0                    19.0                        143   \n",
              "4           45.0                    19.0                        144   \n",
              "\n",
              "   scaled_variance  scaled_variance.1  scaled_radius_of_gyration  \\\n",
              "0            176.0              379.0                      184.0   \n",
              "1            170.0              330.0                      158.0   \n",
              "2            223.0              635.0                      220.0   \n",
              "3            160.0              309.0                      127.0   \n",
              "4            241.0              325.0                      188.0   \n",
              "\n",
              "   scaled_radius_of_gyration.1  skewness_about  skewness_about.1  \\\n",
              "0                         70.0             6.0              16.0   \n",
              "1                         72.0             9.0              14.0   \n",
              "2                         73.0            14.0               9.0   \n",
              "3                         63.0             6.0              10.0   \n",
              "4                        127.0             9.0              11.0   \n",
              "\n",
              "   skewness_about.2  hollows_ratio class  \n",
              "0             187.0            197   van  \n",
              "1             189.0            199   van  \n",
              "2             188.0            196   car  \n",
              "3             199.0            207   van  \n",
              "4             180.0            183   bus  "
            ]
          },
          "metadata": {
            "tags": []
          },
          "execution_count": 3
        }
      ]
    },
    {
      "cell_type": "code",
      "metadata": {
        "id": "E6mDGHMuPWfi",
        "outputId": "6fd58620-b140-408b-a268-2f2a9824cd96"
      },
      "source": [
        "data.info()"
      ],
      "execution_count": null,
      "outputs": [
        {
          "output_type": "stream",
          "text": [
            "<class 'pandas.core.frame.DataFrame'>\n",
            "RangeIndex: 846 entries, 0 to 845\n",
            "Data columns (total 19 columns):\n",
            "compactness                    846 non-null int64\n",
            "circularity                    841 non-null float64\n",
            "distance_circularity           842 non-null float64\n",
            "radius_ratio                   840 non-null float64\n",
            "pr.axis_aspect_ratio           844 non-null float64\n",
            "max.length_aspect_ratio        846 non-null int64\n",
            "scatter_ratio                  845 non-null float64\n",
            "elongatedness                  845 non-null float64\n",
            "pr.axis_rectangularity         843 non-null float64\n",
            "max.length_rectangularity      846 non-null int64\n",
            "scaled_variance                843 non-null float64\n",
            "scaled_variance.1              844 non-null float64\n",
            "scaled_radius_of_gyration      844 non-null float64\n",
            "scaled_radius_of_gyration.1    842 non-null float64\n",
            "skewness_about                 840 non-null float64\n",
            "skewness_about.1               845 non-null float64\n",
            "skewness_about.2               845 non-null float64\n",
            "hollows_ratio                  846 non-null int64\n",
            "class                          846 non-null object\n",
            "dtypes: float64(14), int64(4), object(1)\n",
            "memory usage: 125.7+ KB\n"
          ],
          "name": "stdout"
        }
      ]
    },
    {
      "cell_type": "code",
      "metadata": {
        "id": "S47gOYRhPqKF"
      },
      "source": [
        "# Preprocessing\n",
        "# Encoding categorical variables (if any)\n",
        "# Feature Scaling\n",
        "# Filling missing values (if any)"
      ],
      "execution_count": null,
      "outputs": []
    },
    {
      "cell_type": "code",
      "metadata": {
        "id": "b4vVK6I2PWfj",
        "outputId": "a7642a28-35a1-47e1-84bc-3a72e024eccb"
      },
      "source": [
        "data.isnull().sum()"
      ],
      "execution_count": null,
      "outputs": [
        {
          "output_type": "execute_result",
          "data": {
            "text/plain": [
              "compactness                    0\n",
              "circularity                    5\n",
              "distance_circularity           4\n",
              "radius_ratio                   6\n",
              "pr.axis_aspect_ratio           2\n",
              "max.length_aspect_ratio        0\n",
              "scatter_ratio                  1\n",
              "elongatedness                  1\n",
              "pr.axis_rectangularity         3\n",
              "max.length_rectangularity      0\n",
              "scaled_variance                3\n",
              "scaled_variance.1              2\n",
              "scaled_radius_of_gyration      2\n",
              "scaled_radius_of_gyration.1    4\n",
              "skewness_about                 6\n",
              "skewness_about.1               1\n",
              "skewness_about.2               1\n",
              "hollows_ratio                  0\n",
              "class                          0\n",
              "dtype: int64"
            ]
          },
          "metadata": {
            "tags": []
          },
          "execution_count": 6
        }
      ]
    },
    {
      "cell_type": "code",
      "metadata": {
        "id": "6QFRXtmPPWfj"
      },
      "source": [
        "from sklearn.preprocessing import LabelEncoder\n",
        "le = LabelEncoder()\n",
        "cols = ['class']\n",
        "data[cols[0:]] = data[cols[0:]].apply(lambda col: le.fit_transform(col))"
      ],
      "execution_count": null,
      "outputs": []
    },
    {
      "cell_type": "code",
      "metadata": {
        "id": "E1fAKwn7PWfk"
      },
      "source": [
        "from sklearn.preprocessing import MinMaxScaler\n",
        "columns = data.columns\n",
        "mms = MinMaxScaler()\n",
        "data[columns[:-1]] = mms.fit_transform(data[columns[:-1]])"
      ],
      "execution_count": null,
      "outputs": []
    },
    {
      "cell_type": "code",
      "metadata": {
        "id": "ULx-Ja6JPWfk"
      },
      "source": [
        "data = data.fillna(0)"
      ],
      "execution_count": null,
      "outputs": []
    },
    {
      "cell_type": "code",
      "metadata": {
        "id": "QVvKvpeZPWfk",
        "outputId": "cab2e3cd-8a8b-4398-d760-663de8601457"
      },
      "source": [
        "data.isnull().sum()"
      ],
      "execution_count": null,
      "outputs": [
        {
          "output_type": "execute_result",
          "data": {
            "text/plain": [
              "compactness                    0\n",
              "circularity                    0\n",
              "distance_circularity           0\n",
              "radius_ratio                   0\n",
              "pr.axis_aspect_ratio           0\n",
              "max.length_aspect_ratio        0\n",
              "scatter_ratio                  0\n",
              "elongatedness                  0\n",
              "pr.axis_rectangularity         0\n",
              "max.length_rectangularity      0\n",
              "scaled_variance                0\n",
              "scaled_variance.1              0\n",
              "scaled_radius_of_gyration      0\n",
              "scaled_radius_of_gyration.1    0\n",
              "skewness_about                 0\n",
              "skewness_about.1               0\n",
              "skewness_about.2               0\n",
              "hollows_ratio                  0\n",
              "class                          0\n",
              "dtype: int64"
            ]
          },
          "metadata": {
            "tags": []
          },
          "execution_count": 10
        }
      ]
    },
    {
      "cell_type": "code",
      "metadata": {
        "id": "Fy4JWBLiPWfk"
      },
      "source": [
        "X = data.iloc[:,:-1]\n",
        "y = data.iloc[:,-1]"
      ],
      "execution_count": null,
      "outputs": []
    },
    {
      "cell_type": "code",
      "metadata": {
        "id": "ywJGz-VZP2R9"
      },
      "source": [
        "# Divide the dataset to training and testing set"
      ],
      "execution_count": null,
      "outputs": []
    },
    {
      "cell_type": "code",
      "metadata": {
        "id": "5-cYciMjPWfl"
      },
      "source": [
        "from sklearn.model_selection import train_test_split\n",
        "X_train, X_test, y_train, y_test = train_test_split(X,y , test_size=0.30, random_state=0)"
      ],
      "execution_count": null,
      "outputs": []
    },
    {
      "cell_type": "code",
      "metadata": {
        "id": "_B9hvwPpPWfl",
        "outputId": "8d6924c6-7882-4f53-b236-5009ec85ef09"
      },
      "source": [
        "print(X_train.shape)\n",
        "print(X_test.shape)\n",
        "print(y_train.shape)\n",
        "print(y_test.shape)"
      ],
      "execution_count": null,
      "outputs": [
        {
          "output_type": "stream",
          "text": [
            "(592, 18)\n",
            "(254, 18)\n",
            "(592,)\n",
            "(254,)\n"
          ],
          "name": "stdout"
        }
      ]
    },
    {
      "cell_type": "code",
      "metadata": {
        "id": "P-jeb9KePWfl"
      },
      "source": [
        ""
      ],
      "execution_count": null,
      "outputs": []
    },
    {
      "cell_type": "code",
      "metadata": {
        "id": "hu9YAA53YxPG"
      },
      "source": [
        "# Randomly choose the features from training set and build decision tree\n",
        "# Randomness in the features will help us to achieve different DTrees every time\n",
        "# You can keep minimum number of random features every time so that trees will have sufficient features\n",
        "import random\n",
        "def random_features(X_train, l):\n",
        "    orig_features = list(X_train.columns)\n",
        "    random_features = random.sample(orig_features,k=l)\n",
        "  \n",
        "    return random_features"
      ],
      "execution_count": null,
      "outputs": []
    },
    {
      "cell_type": "code",
      "metadata": {
        "id": "1m-l_n5pPWfm",
        "outputId": "9e4c75cf-6bf3-404a-e195-8e8551cbe76e"
      },
      "source": [
        "n = int(input(\"Enter the number of trees\"))\n",
        "len = int(input(\"Enter the minimum features you want\"))\n",
        "trees = []\n",
        "feature = []\n",
        "for i in range(n):\n",
        "    features = random_features(X_train,len+i)\n",
        "    feature.append(features)\n",
        "    clf = DecisionTreeClassifier()\n",
        "    clf.fit(X_train[features].values.astype('float'), y_train.values.astype('float'))\n",
        "    trees.append(clf)"
      ],
      "execution_count": null,
      "outputs": [
        {
          "output_type": "stream",
          "text": [
            "Enter the number of trees6\n",
            "Enter the minimum features you want9\n"
          ],
          "name": "stdout"
        }
      ]
    },
    {
      "cell_type": "code",
      "metadata": {
        "id": "YfmZwx9cPWfm",
        "outputId": "9b9842e6-71e0-4bd0-a143-5a072c37b6f6"
      },
      "source": [
        "feature"
      ],
      "execution_count": null,
      "outputs": [
        {
          "output_type": "execute_result",
          "data": {
            "text/plain": [
              "[['max.length_rectangularity',\n",
              "  'compactness',\n",
              "  'skewness_about.1',\n",
              "  'hollows_ratio',\n",
              "  'scaled_variance.1',\n",
              "  'pr.axis_rectangularity',\n",
              "  'scatter_ratio',\n",
              "  'scaled_radius_of_gyration',\n",
              "  'elongatedness'],\n",
              " ['scaled_radius_of_gyration',\n",
              "  'pr.axis_aspect_ratio',\n",
              "  'skewness_about.2',\n",
              "  'radius_ratio',\n",
              "  'scaled_variance.1',\n",
              "  'skewness_about.1',\n",
              "  'scaled_variance',\n",
              "  'pr.axis_rectangularity',\n",
              "  'distance_circularity',\n",
              "  'circularity'],\n",
              " ['pr.axis_rectangularity',\n",
              "  'scatter_ratio',\n",
              "  'radius_ratio',\n",
              "  'skewness_about',\n",
              "  'hollows_ratio',\n",
              "  'circularity',\n",
              "  'max.length_rectangularity',\n",
              "  'scaled_radius_of_gyration',\n",
              "  'skewness_about.2',\n",
              "  'max.length_aspect_ratio',\n",
              "  'scaled_radius_of_gyration.1'],\n",
              " ['max.length_aspect_ratio',\n",
              "  'pr.axis_rectangularity',\n",
              "  'pr.axis_aspect_ratio',\n",
              "  'hollows_ratio',\n",
              "  'scaled_variance',\n",
              "  'skewness_about',\n",
              "  'scaled_radius_of_gyration.1',\n",
              "  'skewness_about.2',\n",
              "  'circularity',\n",
              "  'scaled_variance.1',\n",
              "  'skewness_about.1',\n",
              "  'compactness'],\n",
              " ['scaled_radius_of_gyration.1',\n",
              "  'scatter_ratio',\n",
              "  'scaled_radius_of_gyration',\n",
              "  'max.length_aspect_ratio',\n",
              "  'hollows_ratio',\n",
              "  'compactness',\n",
              "  'scaled_variance',\n",
              "  'pr.axis_rectangularity',\n",
              "  'elongatedness',\n",
              "  'skewness_about',\n",
              "  'distance_circularity',\n",
              "  'radius_ratio',\n",
              "  'skewness_about.2'],\n",
              " ['scatter_ratio',\n",
              "  'scaled_variance',\n",
              "  'pr.axis_aspect_ratio',\n",
              "  'radius_ratio',\n",
              "  'skewness_about',\n",
              "  'compactness',\n",
              "  'circularity',\n",
              "  'max.length_rectangularity',\n",
              "  'skewness_about.2',\n",
              "  'skewness_about.1',\n",
              "  'elongatedness',\n",
              "  'hollows_ratio',\n",
              "  'scaled_radius_of_gyration.1',\n",
              "  'max.length_aspect_ratio']]"
            ]
          },
          "metadata": {
            "tags": []
          },
          "execution_count": 20
        }
      ]
    },
    {
      "cell_type": "code",
      "metadata": {
        "id": "22bKlgbZYxPQ"
      },
      "source": [
        "# Train N number of decision trees using random feature selection strategy\n",
        "# Number of trees N can be user input"
      ],
      "execution_count": null,
      "outputs": []
    },
    {
      "cell_type": "code",
      "metadata": {
        "id": "DXBsseNEYxPX"
      },
      "source": [
        "# Apply different voting mechanisms such as \n",
        "# max voting/average voting/weighted average voting (using accuracy as weightage)\n",
        "# Perform the ensembling for the training set.\n",
        "from sklearn.metrics import precision_recall_fscore_support"
      ],
      "execution_count": null,
      "outputs": []
    },
    {
      "cell_type": "code",
      "metadata": {
        "id": "nFEQjBB3RBpM"
      },
      "source": [
        "# Apply invidual trees trained on the testingset\n",
        "# Note: You should've saved the feature sets used for training invidual trees,\n",
        "# so that same features can be chosen in testing set\n",
        "# Get predictions on testing set"
      ],
      "execution_count": null,
      "outputs": []
    },
    {
      "cell_type": "code",
      "metadata": {
        "id": "B-Rbjy0EPWfn"
      },
      "source": [
        "accu = []\n",
        "prec = []\n",
        "rec = []\n",
        "fs = []\n",
        "i=0\n",
        "for clf in trees:\n",
        "    features = feature[i]\n",
        "    i+=1\n",
        "    predictions = clf.predict(X_test[features].values)\n",
        "  \n",
        "    y_pred= []\n",
        "    for row_number in range(predictions.shape[0]):\n",
        "        y_pred.append(np.mean(predictions[row_number, ]))\n",
        "    y_pred = np.array(y_pred)\n",
        "    acc = clf.score(X_test[features].values,y_test.values)\n",
        "    # arr = y_pred - y_test.values\n",
        "    # accuracy = np.count_nonzero(arr==0)/(y_pred.shape[0])\n",
        "    accu.append(acc)\n",
        "    precision, recall, fscore, _ = precision_recall_fscore_support(y_test, y_pred,beta=1.0)\n",
        "    prec.append(np.mean(precision))\n",
        "    rec.append(np.mean(recall))\n",
        "    fs.append(np.mean(fscore))"
      ],
      "execution_count": null,
      "outputs": []
    },
    {
      "cell_type": "code",
      "metadata": {
        "id": "m2qQ84BJRcNP",
        "outputId": "5046c9d5-1c74-4cd3-c032-9f05a68f13f4"
      },
      "source": [
        "# Evaluate the results using accuracy, precision, recall and f-measure\n",
        "\n",
        "import matplotlib.pyplot as plt \n",
        "ntre = []\n",
        "for i in range(n):\n",
        "  ntre.append(i+1)\n",
        "plt.xlabel(\"Trees\") \n",
        "plt.ylabel(\"Training Accuracy\") \n",
        "plt.title(\"Training Acc v/s Trees\") \n",
        "# creating the bar plot \n",
        "plt.bar(ntre, accu) \n",
        "\n",
        "plt.show() \n",
        "\n",
        "plt.bar(ntre, prec ) \n",
        "  \n",
        "plt.xlabel(\"Trees\") \n",
        "plt.ylabel(\"Precision\") \n",
        "plt.title(\"Precision v/s Trees\") \n",
        "plt.show() \n",
        "\n",
        "plt.bar(ntre, rec ) \n",
        "  \n",
        "plt.xlabel(\"Trees\") \n",
        "plt.ylabel(\"Recall\") \n",
        "plt.title(\"Recall v/s Trees\") \n",
        "plt.show() \n",
        "\n",
        "plt.bar(ntre, fs ) \n",
        "  \n",
        "plt.xlabel(\"Trees\") \n",
        "plt.ylabel(\"F-Measure\") \n",
        "plt.title(\"F-Measure v/s Trees\") \n",
        "plt.show()"
      ],
      "execution_count": null,
      "outputs": [
        {
          "output_type": "display_data",
          "data": {
            "image/png": "[encoded data removed]",
            "text/plain": [
              "<Figure size 432x288 with 1 Axes>"
            ]
          },
          "metadata": {
            "tags": [],
            "needs_background": "light"
          }
        },
        {
          "output_type": "display_data",
          "data": {
            "image/png": "[encoded data removed]",
            "text/plain": [
              "<Figure size 432x288 with 1 Axes>"
            ]
          },
          "metadata": {
            "tags": [],
            "needs_background": "light"
          }
        },
        {
          "output_type": "display_data",
          "data": {
            "image/png": "[encoded data removed]",
            "text/plain": [
              "<Figure size 432x288 with 1 Axes>"
            ]
          },
          "metadata": {
            "tags": [],
            "needs_background": "light"
          }
        },
        {
          "output_type": "display_data",
          "data": {
            "image/png": "[encoded data removed]",
            "text/plain": [
              "<Figure size 432x288 with 1 Axes>"
            ]
          },
          "metadata": {
            "tags": [],
            "needs_background": "light"
          }
        }
      ]
    },
    {
      "cell_type": "code",
      "metadata": {
        "id": "z_-xfr-CRoDa"
      },
      "source": [
        "# Compare different voting mechanisms and their accuracies\n",
        "\n",
        "accu = []\n",
        "prec = []\n",
        "rec = []\n",
        "fs = []\n",
        "i=0\n",
        "for clf in trees:\n",
        "    features = feature[i]\n",
        "    i+=1\n",
        "    predictions = clf.predict(X_test[features].values)\n",
        "\n",
        "    y_pred= []\n",
        "    weights = clf.score(X_test[features].values,predictions)\n",
        "    for row_number in range(predictions.shape[0]):\n",
        "      y_pred.append(np.mean(predictions[row_number, ]*weights))\n",
        "    y_pred = np.array(y_pred)\n",
        "    acc = clf.score(X_test[features].values,y_test.values)\n",
        "    # arr = y_pred - y_test.values\n",
        "    # accuracy = np.count_nonzero(arr==0)/(y_pred.shape[0])\n",
        "    accu.append(acc)\n",
        "    precision, recall, fscore, _ = precision_recall_fscore_support(y_test, y_pred,beta=1.0)\n",
        "    prec.append(np.mean(precision))\n",
        "    rec.append(np.mean(recall))\n",
        "    fs.append(np.mean(fscore))"
      ],
      "execution_count": null,
      "outputs": []
    },
    {
      "cell_type": "code",
      "metadata": {
        "id": "V2UXYktmRryu"
      },
      "source": [
        "# Compare the Random forest models with different number of trees N\n",
        "\n"
      ],
      "execution_count": null,
      "outputs": []
    },
    {
      "cell_type": "code",
      "metadata": {
        "id": "_grD0B0qRwOI",
        "outputId": "f58242c7-a273-43fe-b783-c6c74fc616c8"
      },
      "source": [
        "# Compare different values for minimum number of features needed for individual trees\n",
        "\n",
        "\n",
        "import matplotlib.pyplot as plt \n",
        "ntre = []\n",
        "for i in range(n):\n",
        "  ntre.append(i+1)\n",
        "plt.xlabel(\"Trees\") \n",
        "plt.ylabel(\"Training Accuracy\") \n",
        "plt.title(\"Training Acc v/s Trees\") \n",
        "# creating the bar plot \n",
        "plt.bar(ntre, accu) \n",
        "\n",
        "plt.show() \n",
        "\n",
        "plt.bar(ntre, prec ) \n",
        "  \n",
        "plt.xlabel(\"Trees\") \n",
        "plt.ylabel(\"Precision\") \n",
        "plt.title(\"Precision v/s Trees\") \n",
        "plt.show() \n",
        "\n",
        "plt.bar(ntre, rec ) \n",
        "  \n",
        "plt.xlabel(\"Trees\") \n",
        "plt.ylabel(\"Recall\") \n",
        "plt.title(\"Recall v/s Trees\") \n",
        "plt.show() \n",
        "\n",
        "plt.bar(ntre, fs ) \n",
        "  \n",
        "plt.xlabel(\"Trees\") \n",
        "plt.ylabel(\"F-Measure\") \n",
        "plt.title(\"F-Measure v/s Trees\") \n",
        "plt.show()"
      ],
      "execution_count": null,
      "outputs": [
        {
          "output_type": "display_data",
          "data": {
            "image/png": "[encoded data removed]",
            "text/plain": [
              "<Figure size 432x288 with 1 Axes>"
            ]
          },
          "metadata": {
            "tags": [],
            "needs_background": "light"
          }
        },
        {
          "output_type": "display_data",
          "data": {
            "image/png": "[encoded data removed]",
            "text/plain": [
              "<Figure size 432x288 with 1 Axes>"
            ]
          },
          "metadata": {
            "tags": [],
            "needs_background": "light"
          }
        },
        {
          "output_type": "display_data",
          "data": {
            "image/png": "[encoded data removed]",
            "text/plain": [
              "<Figure size 432x288 with 1 Axes>"
            ]
          },
          "metadata": {
            "tags": [],
            "needs_background": "light"
          }
        },
        {
          "output_type": "display_data",
          "data": {
            "image/png": "[encoded data removed]",
            "text/plain": [
              "<Figure size 432x288 with 1 Axes>"
            ]
          },
          "metadata": {
            "tags": [],
            "needs_background": "light"
          }
        }
      ]
    },
    {
      "cell_type": "markdown",
      "metadata": {
        "id": "QGVYWKUcRnhA"
      },
      "source": [
        "## Part 2: Random Forest using Sklearn"
      ]
    },
    {
      "cell_type": "code",
      "metadata": {
        "id": "7vJ02XgwRm-O"
      },
      "source": [
        "# Use the preprocessed dataset here\n",
        "\n",
        "X = data.iloc[:,:-1].values\n",
        "y = data.iloc[:,-1].values\n",
        "# Divide the dataset to training and testing set\n",
        "X_train, X_test, y_train, y_test = train_test_split(X,y , test_size=0.30, random_state=0)"
      ],
      "execution_count": null,
      "outputs": []
    },
    {
      "cell_type": "code",
      "metadata": {
        "id": "mHEEc7BrSDG0",
        "outputId": "e9bba4d6-161b-431b-9e85-5556f77f1886"
      },
      "source": [
        "# Train the Random Forest Model using builtin Sklearn Dataset\n",
        "from sklearn.ensemble import RandomForestClassifier\n",
        "from sklearn.datasets import make_classification\n",
        "clf = RandomForestClassifier(1000,max_depth=2, random_state=0)\n",
        "clf.fit(X_train,y_train)\n"
      ],
      "execution_count": null,
      "outputs": [
        {
          "output_type": "execute_result",
          "data": {
            "text/plain": [
              "RandomForestClassifier(bootstrap=True, class_weight=None, criterion='gini',\n",
              "                       max_depth=2, max_features='auto', max_leaf_nodes=None,\n",
              "                       min_impurity_decrease=0.0, min_impurity_split=None,\n",
              "                       min_samples_leaf=1, min_samples_split=2,\n",
              "                       min_weight_fraction_leaf=0.0, n_estimators=1000,\n",
              "                       n_jobs=None, oob_score=False, random_state=0, verbose=0,\n",
              "                       warm_start=False)"
            ]
          },
          "metadata": {
            "tags": []
          },
          "execution_count": 28
        }
      ]
    },
    {
      "cell_type": "code",
      "metadata": {
        "id": "I-YJEeqPSIk1",
        "outputId": "736bfcc7-7375-4879-d1c9-4c30dda3dfed"
      },
      "source": [
        "# Test the model with testing set and print the accuracy, precision, recall and f-measure\n",
        "\n",
        "y_pred = clf.predict(X_test)\n",
        "acc = clf.score(X_test,y_test)\n",
        "print(acc)"
      ],
      "execution_count": null,
      "outputs": [
        {
          "output_type": "stream",
          "text": [
            "0.7874015748031497\n"
          ],
          "name": "stdout"
        }
      ]
    },
    {
      "cell_type": "code",
      "metadata": {
        "id": "qlwe8gonSVFd",
        "outputId": "473d35bf-0e2f-4ad7-d017-9843b8981f9a"
      },
      "source": [
        "# Play with parameters such as\n",
        "# number of decision trees\n",
        "# Criterion for splitting\n",
        "# Max depth\n",
        "# Minimum samples per split and leaf\n",
        "clf = RandomForestClassifier(100,max_depth=5, random_state=0)\n",
        "clf.fit(X_train,y_train)"
      ],
      "execution_count": null,
      "outputs": [
        {
          "output_type": "execute_result",
          "data": {
            "text/plain": [
              "RandomForestClassifier(bootstrap=True, class_weight=None, criterion='gini',\n",
              "                       max_depth=5, max_features='auto', max_leaf_nodes=None,\n",
              "                       min_impurity_decrease=0.0, min_impurity_split=None,\n",
              "                       min_samples_leaf=1, min_samples_split=2,\n",
              "                       min_weight_fraction_leaf=0.0, n_estimators=100,\n",
              "                       n_jobs=None, oob_score=False, random_state=0, verbose=0,\n",
              "                       warm_start=False)"
            ]
          },
          "metadata": {
            "tags": []
          },
          "execution_count": 30
        }
      ]
    },
    {
      "cell_type": "code",
      "metadata": {
        "id": "q6RBCkeyPWfp",
        "outputId": "1e13d354-8c4c-455b-f168-fe7707c6695a"
      },
      "source": [
        "y_pred = clf.predict(X_test)\n",
        "acc = clf.score(X_test,y_test)\n",
        "print(acc)"
      ],
      "execution_count": null,
      "outputs": [
        {
          "output_type": "stream",
          "text": [
            "0.9251968503937008\n"
          ],
          "name": "stdout"
        }
      ]
    },
    {
      "cell_type": "code",
      "metadata": {
        "id": "8RCWoCV4PWfq",
        "outputId": "c2006a5b-9022-4528-c0a1-ca86988d0c10"
      },
      "source": [
        "\n",
        "clf = RandomForestClassifier(1000,max_depth=5, random_state=0)\n",
        "clf.fit(X_train,y_train)"
      ],
      "execution_count": null,
      "outputs": [
        {
          "output_type": "execute_result",
          "data": {
            "text/plain": [
              "RandomForestClassifier(bootstrap=True, class_weight=None, criterion='gini',\n",
              "                       max_depth=5, max_features='auto', max_leaf_nodes=None,\n",
              "                       min_impurity_decrease=0.0, min_impurity_split=None,\n",
              "                       min_samples_leaf=1, min_samples_split=2,\n",
              "                       min_weight_fraction_leaf=0.0, n_estimators=1000,\n",
              "                       n_jobs=None, oob_score=False, random_state=0, verbose=0,\n",
              "                       warm_start=False)"
            ]
          },
          "metadata": {
            "tags": []
          },
          "execution_count": 32
        }
      ]
    },
    {
      "cell_type": "code",
      "metadata": {
        "id": "eeHb55AjPWfq",
        "outputId": "583f523e-ae7a-4cc3-ae91-c89a2d605180"
      },
      "source": [
        "y_pred = clf.predict(X_test)\n",
        "acc = clf.score(X_test,y_test)\n",
        "print(acc)"
      ],
      "execution_count": null,
      "outputs": [
        {
          "output_type": "stream",
          "text": [
            "0.9330708661417323\n"
          ],
          "name": "stdout"
        }
      ]
    },
    {
      "cell_type": "code",
      "metadata": {
        "id": "Mn1S8phCPWfq"
      },
      "source": [
        ""
      ],
      "execution_count": null,
      "outputs": []
    }
  ]
}